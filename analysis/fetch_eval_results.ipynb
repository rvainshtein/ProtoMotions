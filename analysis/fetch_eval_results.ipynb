{
 "cells": [
  {
   "cell_type": "code",
   "id": "initial_id",
   "metadata": {
    "collapsed": true,
    "ExecuteTime": {
     "end_time": "2025-02-18T12:34:10.390197Z",
     "start_time": "2025-02-18T12:34:10.345431Z"
    }
   },
   "source": [
    "import os\n",
    "\n",
    "import pandas as pd\n",
    "import plotly.express as px\n",
    "# Install & Import Dependencies\n",
    "import wandb\n",
    "\n",
    "pd.options.plotting.backend = \"plotly\"\n",
    "api = wandb.Api()"
   ],
   "outputs": [],
   "execution_count": 9
  },
  {
   "metadata": {
    "ExecuteTime": {
     "end_time": "2025-02-18T12:18:42.978327Z",
     "start_time": "2025-02-18T12:18:42.774797Z"
    }
   },
   "cell_type": "code",
   "source": [
    "# Define WandB Parameters\n",
    "entity = \"phys_inversion\"\n",
    "# Fetch all projects for the authenticated user\n",
    "projects = api.projects(entity=entity)\n",
    "\n",
    "projects = [project for project in projects if \"eval_results_\" in project.name]\n",
    "\n",
    "rename_metrics = {\n",
    "    \"env/Env reach_success\": \"reach_success\",\n",
    "    \"env/Env reach_distance\": \"reach_distance\",\n",
    "    \"core/Episode Length\": \"episode_length\",\n",
    "    \"core/Episode Reward\": \"episode_reward\"\n",
    "}"
   ],
   "id": "4b18955319d86bc4",
   "outputs": [],
   "execution_count": 3
  },
  {
   "metadata": {
    "ExecuteTime": {
     "end_time": "2025-02-18T12:18:42.989351Z",
     "start_time": "2025-02-18T12:18:42.980855Z"
    }
   },
   "cell_type": "code",
   "source": [
    "# Fetch Data from WandB\n",
    "\n",
    "def get_runs(entity, project, filters, keys=None):\n",
    "    runs = api.runs(f\"{entity}/{project}\", filters=filters)\n",
    "    data = []\n",
    "    for run in runs:\n",
    "        history = run.history(keys=keys, pandas=True)  # Adjust as needed\n",
    "\n",
    "        # Fetch hyperparameters\n",
    "        config = run.config\n",
    "        history = pd.concat([history, pd.json_normalize(config, sep='.')], axis=1)\n",
    "\n",
    "        history[\"run_name\"] = run.name\n",
    "        history[\"run_id\"] = run.id\n",
    "\n",
    "        data.append(history)\n",
    "    return pd.concat(data).reset_index() if data else pd.DataFrame()\n"
   ],
   "id": "dfca70f231b06f20",
   "outputs": [],
   "execution_count": 4
  },
  {
   "metadata": {
    "ExecuteTime": {
     "end_time": "2025-02-18T12:23:33.557474Z",
     "start_time": "2025-02-18T12:18:42.992644Z"
    }
   },
   "cell_type": "code",
   "source": [
    "filters = {\"state\": {\"$eq\": \"finished\"}}\n",
    "# Fetch all runs for the project\n",
    "project_dfs = [get_runs(entity, project.name, filters) for project in projects]"
   ],
   "id": "cc4953f561fefd7f",
   "outputs": [],
   "execution_count": 5
  },
  {
   "metadata": {
    "ExecuteTime": {
     "end_time": "2025-02-18T12:35:20.754212Z",
     "start_time": "2025-02-18T12:35:20.707436Z"
    }
   },
   "cell_type": "code",
   "source": [
    "for df in project_dfs:\n",
    "    df.rename(columns=rename_metrics, inplace=True)\n",
    "    # multiply by 100 to get percentage\n",
    "    # df['reach_success'] = df['reach_success'] * 100\n",
    "    # check if algo type is null, if so then if env.config.disable_discriminator is True then it's PPO else it's AMP\n",
    "    df['algo_type'] = df.apply(lambda x:\n",
    "                           x['algo_type'] if pd.notna(x['algo_type'])\n",
    "                           else ('PPO' if x['env.config.disable_discriminator'] else 'AMP'), axis=1)"
   ],
   "id": "21b5e7663608fef2",
   "outputs": [],
   "execution_count": 13
  },
  {
   "metadata": {
    "ExecuteTime": {
     "end_time": "2025-02-18T12:40:50.116233Z",
     "start_time": "2025-02-18T12:40:50.079672Z"
    }
   },
   "cell_type": "code",
   "source": [
    "for df, project in zip(project_dfs, projects):\n",
    "    reach_success = df.groupby([\"algo_type\", \"prior\"], dropna=False).agg({\"reach_success\": [\"mean\", \"std\"]})\n",
    "    os.makedirs(\"eval_results\", exist_ok=True)\n",
    "    reach_success.to_csv(f\"eval_results/{project.name}_reach_success.csv\", float_format=\"%.4f\")\n"
   ],
   "id": "b30228680a52aee8",
   "outputs": [],
   "execution_count": 31
  },
  {
   "metadata": {},
   "cell_type": "code",
   "outputs": [],
   "execution_count": null,
   "source": "",
   "id": "3c40b7554dceb170"
  }
 ],
 "metadata": {
  "kernelspec": {
   "display_name": "Python 3",
   "language": "python",
   "name": "python3"
  },
  "language_info": {
   "codemirror_mode": {
    "name": "ipython",
    "version": 2
   },
   "file_extension": ".py",
   "mimetype": "text/x-python",
   "name": "python",
   "nbconvert_exporter": "python",
   "pygments_lexer": "ipython2",
   "version": "2.7.6"
  }
 },
 "nbformat": 4,
 "nbformat_minor": 5
}
