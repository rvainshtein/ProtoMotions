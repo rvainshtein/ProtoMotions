{
 "cells": [
  {
   "cell_type": "code",
   "id": "initial_id",
   "metadata": {
    "collapsed": true,
    "ExecuteTime": {
     "end_time": "2025-02-24T09:29:25.625918Z",
     "start_time": "2025-02-24T09:29:25.616242Z"
    }
   },
   "source": [
    "import os\n",
    "from glob import glob\n",
    "from typing import List\n",
    "\n",
    "import pandas as pd\n",
    "import wandb\n",
    "\n",
    "pd.options.plotting.backend = \"plotly\"\n",
    "api = wandb.Api()"
   ],
   "outputs": [],
   "execution_count": 42
  },
  {
   "metadata": {
    "ExecuteTime": {
     "end_time": "2025-02-24T09:29:25.840481Z",
     "start_time": "2025-02-24T09:29:25.635111Z"
    }
   },
   "cell_type": "code",
   "source": [
    "# Define WandB Parameters\n",
    "entity = \"phys_inversion\"\n",
    "project_prefix = \"FINALLY__\"\n",
    "filters = {\"state\": {\"$eq\": \"finished\"}}\n",
    "\n",
    "# Fetch all projects for the authenticated user\n",
    "projects = api.projects(entity=entity)\n",
    "projects = [project for project in projects if project.name.startswith(project_prefix)]\n",
    "\n",
    "rename_metrics = {\n",
    "    \"env/Env reach_success\": \"reach_success\",\n",
    "    \"env/Env reach_distance\": \"reach_distance\",\n",
    "    \"core/Episode Reward\": \"episode_reward\"\n",
    "}"
   ],
   "id": "4b18955319d86bc4",
   "outputs": [],
   "execution_count": 43
  },
  {
   "metadata": {
    "ExecuteTime": {
     "end_time": "2025-02-24T09:29:25.848841Z",
     "start_time": "2025-02-24T09:29:25.843944Z"
    }
   },
   "cell_type": "code",
   "source": [
    "GENERATE_RAW_CSV = True\n",
    "GENERATE_GROUPED_CSV = True\n",
    "GENERATE_TABLES = True"
   ],
   "id": "b99ad8cd6afc491c",
   "outputs": [],
   "execution_count": 44
  },
  {
   "metadata": {
    "ExecuteTime": {
     "end_time": "2025-02-24T09:29:25.857833Z",
     "start_time": "2025-02-24T09:29:25.851217Z"
    }
   },
   "cell_type": "code",
   "source": [
    "# Fetch Data from WandB\n",
    "\n",
    "def get_runs(entity, project, filters, keys=None):\n",
    "    runs = api.runs(f\"{entity}/{project}\", filters=filters)\n",
    "    data = []\n",
    "    for run in runs:\n",
    "        history = run.history(keys=keys, pandas=True)  # Adjust as needed\n",
    "\n",
    "        # Fetch hyperparameters\n",
    "        config = run.config\n",
    "        history = pd.concat([history, pd.json_normalize(config, sep='.')], axis=1)\n",
    "\n",
    "        history[\"run_name\"] = run.name\n",
    "        history[\"run_id\"] = run.id\n",
    "\n",
    "        data.append(history)\n",
    "    return pd.concat(data).reset_index() if data else pd.DataFrame()\n"
   ],
   "id": "dfca70f231b06f20",
   "outputs": [],
   "execution_count": 45
  },
  {
   "metadata": {
    "ExecuteTime": {
     "end_time": "2025-02-24T09:29:25.866375Z",
     "start_time": "2025-02-24T09:29:25.861181Z"
    }
   },
   "cell_type": "code",
   "source": [
    "\n",
    "# ALL TOGETHER PER PROJECT\n",
    "from tqdm import tqdm\n",
    "\n",
    "\n",
    "def generate_raw_csvs():\n",
    "    os.makedirs(f\"{project_prefix}/raw\", exist_ok=True)\n",
    "    for project in tqdm(projects):\n",
    "        df = get_runs(entity, project.name, filters)\n",
    "        df.to_csv(f\"{project_prefix}/raw/{project.name}.csv\", index=False)"
   ],
   "id": "8cfb6cec910e52df",
   "outputs": [],
   "execution_count": 46
  },
  {
   "metadata": {
    "ExecuteTime": {
     "end_time": "2025-02-24T09:34:22.841839Z",
     "start_time": "2025-02-24T09:29:25.868606Z"
    }
   },
   "cell_type": "code",
   "source": [
    "if GENERATE_RAW_CSV:\n",
    "    generate_raw_csvs()"
   ],
   "id": "bccc3d3f4aa2f802",
   "outputs": [
    {
     "name": "stderr",
     "output_type": "stream",
     "text": [
      "100%|██████████| 5/5 [04:56<00:00, 59.39s/it]\n"
     ]
    }
   ],
   "execution_count": 47
  },
  {
   "metadata": {
    "ExecuteTime": {
     "end_time": "2025-02-24T09:34:22.851336Z",
     "start_time": "2025-02-24T09:34:22.844180Z"
    }
   },
   "cell_type": "code",
   "source": [
    "raw_csvs_paths = os.listdir(f\"{project_prefix}/raw\")\n",
    "grouped_dir = f\"{project_prefix}/grouped\"\n",
    "os.makedirs(grouped_dir, exist_ok=True)\n",
    "\n",
    "\n",
    "def generate_grouped_csvs(raw_csvs_paths=raw_csvs_paths):\n",
    "    for project_file in raw_csvs_paths:\n",
    "        df = pd.read_csv(f\"{project_prefix}/raw/{project_file}\")\n",
    "        df.rename(columns=rename_metrics, inplace=True)\n",
    "        df[df['reach_success'] == \"NaN\"] = 0\n",
    "\n",
    "        # multiply by 100 to get percentage\n",
    "        df['reach_success'] = df['reach_success'] * 100\n",
    "\n",
    "        # check if algo type is null, if so then if env.config.disable_discriminator is True then it's PPO else it's AMP\n",
    "        df['algo_type'] = df.apply(lambda x:\n",
    "                                   x['algo_type'] if pd.notna(x['algo_type'])\n",
    "                                   else ('PPO' if x['env.config.disable_discriminator'] else 'AMP'), axis=1)\n",
    "        df['prior'] = df['prior'].fillna(False)\n",
    "\n",
    "        df = df[df.any(axis=1)]\n",
    "\n",
    "        df_grouped = df.groupby([\"algo_type\", \"prior\", \"use_perturbations\"], dropna=False).agg(\n",
    "            {\"reach_success\": [\"mean\", \"std\"]})\n",
    "        df_grouped.columns = [\"_\".join(col).strip() for col in df_grouped.columns.to_flat_index()]\n",
    "        df_grouped.reset_index(inplace=True)\n",
    "\n",
    "        os.makedirs(project_prefix, exist_ok=True)\n",
    "        df_grouped.to_csv(f\"{grouped_dir}/{project_file}\", float_format=\"%.4f\")\n"
   ],
   "id": "8396323092a8887a",
   "outputs": [],
   "execution_count": 48
  },
  {
   "metadata": {
    "ExecuteTime": {
     "end_time": "2025-02-24T09:34:23.646220Z",
     "start_time": "2025-02-24T09:34:22.852780Z"
    }
   },
   "cell_type": "code",
   "source": [
    "if GENERATE_GROUPED_CSV:\n",
    "    generate_grouped_csvs()"
   ],
   "id": "853c5bc9ee7add9b",
   "outputs": [],
   "execution_count": 49
  },
  {
   "metadata": {
    "ExecuteTime": {
     "end_time": "2025-02-24T09:34:23.747634Z",
     "start_time": "2025-02-24T09:34:23.647908Z"
    }
   },
   "cell_type": "code",
   "source": [
    "def generate_combined_df(grouped_dir):\n",
    "    # Read all CSV files\n",
    "    csv_files = glob(os.path.join(grouped_dir, \"*.csv\"))\n",
    "    keep_cols = ['algo_type', 'prior', 'use_perturbations', 'reach_success_mean', 'reach_success_std']\n",
    "    renamed_keep_cols = ['algo_type', 'prior', 'use_perturbations', 'mean', 'std']\n",
    "    # Dictionary to store data\n",
    "    data = {}\n",
    "    for file in csv_files:\n",
    "        env_name = os.path.splitext(os.path.basename(file))[0].replace(project_prefix, '')  # Remove project prefix\n",
    "        df = pd.read_csv(file)\n",
    "        df = df.dropna(axis=1, how='all')  # Drop empty columns\n",
    "        df = df[keep_cols]\n",
    "        df.columns = renamed_keep_cols\n",
    "        df['mean'] = pd.to_numeric(df['mean'], errors='coerce')  # Convert to numeric, coerce errors to NaN\n",
    "        df['std'] = pd.to_numeric(df['std'], errors='coerce')  # Convert to numeric, coerce errors to NaN\n",
    "        df['value'] = df.apply(\n",
    "            lambda row: f\"{row['mean']:.2f} ± {row['std']:.2f}\" if pd.notna(row['std']) else f\"{row['mean']:.2f}\",\n",
    "            axis=1)\n",
    "        df['algo_str'] = df['algo_type'] + '_prior_' + df['prior'].map(str)\n",
    "        df['env_perturb'] = env_name + '_perturb_' + df['use_perturbations'].map(str)\n",
    "\n",
    "        for ep in df['env_perturb'].unique():\n",
    "            data[ep] = df[df['env_perturb'] == ep].set_index(['algo_str', 'algo_type', 'prior'])['value']\n",
    "    # Combine data into a single DataFrame\n",
    "    combined_df = pd.concat(data, axis=1).reset_index()\n",
    "    return combined_df\n",
    "\n",
    "\n",
    "combined_df = generate_combined_df(grouped_dir)"
   ],
   "id": "f0e8cbd038fbedac",
   "outputs": [],
   "execution_count": 50
  },
  {
   "metadata": {
    "ExecuteTime": {
     "end_time": "2025-02-24T09:34:23.755689Z",
     "start_time": "2025-02-24T09:34:23.749329Z"
    }
   },
   "cell_type": "code",
   "source": [
    "def reorder_rows(df):\n",
    "    # Define order of rows\n",
    "    order = ['MaskedMimic_Inversion_prior_False',\n",
    "             'MaskedMimic_Inversion_prior_True',\n",
    "             'MaskedMimic_Prior_Only_prior_True',\n",
    "             'MaskedMimic_Finetune_prior_False',\n",
    "             'MaskedMimic_Finetune_prior_True',\n",
    "             'PULSE_prior_False',\n",
    "             'AMP_prior_False',\n",
    "             'PureRL_prior_False',\n",
    "             'PPO_prior_False', ]\n",
    "\n",
    "    # Set order of rows\n",
    "    df = df.sort_values('algo_str', key=lambda x: x.map(order.index))\n",
    "\n",
    "    return df\n",
    "\n",
    "\n",
    "def merge_rows(combined_df):\n",
    "    # Merge 'PureRL_prior_False' and 'PPO_prior_False' rows\n",
    "    df = combined_df.copy()\n",
    "    if 'PureRL' in df['algo_type'].values and 'PPO' in df['algo_type'].values:\n",
    "        pure_rl_row = df[df['algo_type'] == 'PureRL'].iloc[0]\n",
    "        ppo_row = df[df['algo_type'] == 'PPO'].iloc[0]\n",
    "        merged_row = ppo_row.combine_first(pure_rl_row)\n",
    "        df = df[~df['algo_type'].isin(['PureRL', 'PPO'])]\n",
    "        df = pd.concat([df, merged_row.to_frame().T], ignore_index=True)\n",
    "    return df\n",
    "\n",
    "\n",
    "def post_process_df(df):\n",
    "    df = reorder_rows(df)\n",
    "    df = merge_rows(df)\n",
    "    return df"
   ],
   "id": "60aeaab08967d756",
   "outputs": [],
   "execution_count": 51
  },
  {
   "metadata": {
    "ExecuteTime": {
     "end_time": "2025-02-24T09:34:23.778685Z",
     "start_time": "2025-02-24T09:34:23.758986Z"
    }
   },
   "cell_type": "code",
   "source": [
    "final_df = post_process_df(combined_df)\n",
    "final_df"
   ],
   "id": "94fa03ae91f3e756",
   "outputs": [
    {
     "data": {
      "text/plain": [
       "                            algo_str               algo_type  prior  \\\n",
       "0  MaskedMimic_Inversion_prior_False   MaskedMimic_Inversion  False   \n",
       "1   MaskedMimic_Inversion_prior_True   MaskedMimic_Inversion   True   \n",
       "2  MaskedMimic_Prior_Only_prior_True  MaskedMimic_Prior_Only   True   \n",
       "3   MaskedMimic_Finetune_prior_False    MaskedMimic_Finetune  False   \n",
       "4    MaskedMimic_Finetune_prior_True    MaskedMimic_Finetune   True   \n",
       "5                    AMP_prior_False                     AMP  False   \n",
       "6                    PPO_prior_False                     PPO  False   \n",
       "\n",
       "  reach_perturb_False reach_perturb_True long_jump_perturb_False  \\\n",
       "0        95.37 ± 1.80      61.67 ± 38.73            99.81 ± 0.42   \n",
       "1        94.88 ± 1.99      65.06 ± 37.77                     NaN   \n",
       "2               24.77       23.99 ± 2.85                     NaN   \n",
       "3        93.70 ± 4.59      52.40 ± 33.50           47.38 ± 54.74   \n",
       "4        92.88 ± 3.42      66.31 ± 18.70                     NaN   \n",
       "5        57.14 ± 4.80      38.23 ± 16.67           76.26 ± 43.36   \n",
       "6        89.90 ± 3.25      66.83 ± 19.07           60.59 ± 53.98   \n",
       "\n",
       "  long_jump_perturb_True strike_perturb_False strike_perturb_True  \\\n",
       "0          45.02 ± 48.36         70.27 ± 4.56       45.19 ± 11.00   \n",
       "1                    NaN                  NaN                 NaN   \n",
       "2                    NaN                  NaN                 NaN   \n",
       "3          22.39 ± 34.85         79.61 ± 7.01       28.35 ± 23.19   \n",
       "4                    NaN                  NaN                 NaN   \n",
       "5           7.39 ± 21.94        30.92 ± 38.38       26.03 ± 31.65   \n",
       "6          11.81 ± 30.56        42.36 ± 35.51       41.11 ± 23.68   \n",
       "\n",
       "  direction_facing_perturb_False steering_perturb_False  \\\n",
       "0                   83.66 ± 5.66           96.89 ± 4.33   \n",
       "1                   88.69 ± 4.04           99.26 ± 0.79   \n",
       "2                           3.83                   2.19   \n",
       "3                   87.44 ± 6.79           99.10 ± 1.29   \n",
       "4                   96.41 ± 4.94           98.86 ± 0.32   \n",
       "5                    4.28 ± 1.42            5.14 ± 0.68   \n",
       "6                  32.64 ± 40.21           97.74 ± 1.40   \n",
       "\n",
       "  BUG_steering_perturb_False BUG_steering_perturb_True  \\\n",
       "0               97.05 ± 2.98             59.82 ± 43.96   \n",
       "1               99.47 ± 0.46             52.02 ± 37.87   \n",
       "2                       0.48               0.22 ± 0.37   \n",
       "3               99.23 ± 0.89             50.12 ± 43.89   \n",
       "4               98.59 ± 1.66             45.91 ± 37.75   \n",
       "5                5.83 ± 2.17               3.27 ± 2.34   \n",
       "6              94.69 ± 10.67             12.91 ± 22.32   \n",
       "\n",
       "  BUG_direction_facing_perturb_False BUG_direction_facing_perturb_True  \n",
       "0                       79.17 ± 4.11                     43.34 ± 34.04  \n",
       "1                       85.96 ± 3.67                     55.98 ± 35.67  \n",
       "2                               3.77                       3.53 ± 1.55  \n",
       "3                       90.67 ± 7.19                     30.96 ± 32.58  \n",
       "4                       94.01 ± 7.44                     30.14 ± 35.07  \n",
       "5                        4.30 ± 1.24                       2.81 ± 2.36  \n",
       "6                      30.77 ± 38.23                      6.61 ± 19.08  "
      ],
      "text/html": [
       "<div>\n",
       "<style scoped>\n",
       "    .dataframe tbody tr th:only-of-type {\n",
       "        vertical-align: middle;\n",
       "    }\n",
       "\n",
       "    .dataframe tbody tr th {\n",
       "        vertical-align: top;\n",
       "    }\n",
       "\n",
       "    .dataframe thead th {\n",
       "        text-align: right;\n",
       "    }\n",
       "</style>\n",
       "<table border=\"1\" class=\"dataframe\">\n",
       "  <thead>\n",
       "    <tr style=\"text-align: right;\">\n",
       "      <th></th>\n",
       "      <th>algo_str</th>\n",
       "      <th>algo_type</th>\n",
       "      <th>prior</th>\n",
       "      <th>reach_perturb_False</th>\n",
       "      <th>reach_perturb_True</th>\n",
       "      <th>long_jump_perturb_False</th>\n",
       "      <th>long_jump_perturb_True</th>\n",
       "      <th>strike_perturb_False</th>\n",
       "      <th>strike_perturb_True</th>\n",
       "      <th>direction_facing_perturb_False</th>\n",
       "      <th>steering_perturb_False</th>\n",
       "      <th>BUG_steering_perturb_False</th>\n",
       "      <th>BUG_steering_perturb_True</th>\n",
       "      <th>BUG_direction_facing_perturb_False</th>\n",
       "      <th>BUG_direction_facing_perturb_True</th>\n",
       "    </tr>\n",
       "  </thead>\n",
       "  <tbody>\n",
       "    <tr>\n",
       "      <th>0</th>\n",
       "      <td>MaskedMimic_Inversion_prior_False</td>\n",
       "      <td>MaskedMimic_Inversion</td>\n",
       "      <td>False</td>\n",
       "      <td>95.37 ± 1.80</td>\n",
       "      <td>61.67 ± 38.73</td>\n",
       "      <td>99.81 ± 0.42</td>\n",
       "      <td>45.02 ± 48.36</td>\n",
       "      <td>70.27 ± 4.56</td>\n",
       "      <td>45.19 ± 11.00</td>\n",
       "      <td>83.66 ± 5.66</td>\n",
       "      <td>96.89 ± 4.33</td>\n",
       "      <td>97.05 ± 2.98</td>\n",
       "      <td>59.82 ± 43.96</td>\n",
       "      <td>79.17 ± 4.11</td>\n",
       "      <td>43.34 ± 34.04</td>\n",
       "    </tr>\n",
       "    <tr>\n",
       "      <th>1</th>\n",
       "      <td>MaskedMimic_Inversion_prior_True</td>\n",
       "      <td>MaskedMimic_Inversion</td>\n",
       "      <td>True</td>\n",
       "      <td>94.88 ± 1.99</td>\n",
       "      <td>65.06 ± 37.77</td>\n",
       "      <td>NaN</td>\n",
       "      <td>NaN</td>\n",
       "      <td>NaN</td>\n",
       "      <td>NaN</td>\n",
       "      <td>88.69 ± 4.04</td>\n",
       "      <td>99.26 ± 0.79</td>\n",
       "      <td>99.47 ± 0.46</td>\n",
       "      <td>52.02 ± 37.87</td>\n",
       "      <td>85.96 ± 3.67</td>\n",
       "      <td>55.98 ± 35.67</td>\n",
       "    </tr>\n",
       "    <tr>\n",
       "      <th>2</th>\n",
       "      <td>MaskedMimic_Prior_Only_prior_True</td>\n",
       "      <td>MaskedMimic_Prior_Only</td>\n",
       "      <td>True</td>\n",
       "      <td>24.77</td>\n",
       "      <td>23.99 ± 2.85</td>\n",
       "      <td>NaN</td>\n",
       "      <td>NaN</td>\n",
       "      <td>NaN</td>\n",
       "      <td>NaN</td>\n",
       "      <td>3.83</td>\n",
       "      <td>2.19</td>\n",
       "      <td>0.48</td>\n",
       "      <td>0.22 ± 0.37</td>\n",
       "      <td>3.77</td>\n",
       "      <td>3.53 ± 1.55</td>\n",
       "    </tr>\n",
       "    <tr>\n",
       "      <th>3</th>\n",
       "      <td>MaskedMimic_Finetune_prior_False</td>\n",
       "      <td>MaskedMimic_Finetune</td>\n",
       "      <td>False</td>\n",
       "      <td>93.70 ± 4.59</td>\n",
       "      <td>52.40 ± 33.50</td>\n",
       "      <td>47.38 ± 54.74</td>\n",
       "      <td>22.39 ± 34.85</td>\n",
       "      <td>79.61 ± 7.01</td>\n",
       "      <td>28.35 ± 23.19</td>\n",
       "      <td>87.44 ± 6.79</td>\n",
       "      <td>99.10 ± 1.29</td>\n",
       "      <td>99.23 ± 0.89</td>\n",
       "      <td>50.12 ± 43.89</td>\n",
       "      <td>90.67 ± 7.19</td>\n",
       "      <td>30.96 ± 32.58</td>\n",
       "    </tr>\n",
       "    <tr>\n",
       "      <th>4</th>\n",
       "      <td>MaskedMimic_Finetune_prior_True</td>\n",
       "      <td>MaskedMimic_Finetune</td>\n",
       "      <td>True</td>\n",
       "      <td>92.88 ± 3.42</td>\n",
       "      <td>66.31 ± 18.70</td>\n",
       "      <td>NaN</td>\n",
       "      <td>NaN</td>\n",
       "      <td>NaN</td>\n",
       "      <td>NaN</td>\n",
       "      <td>96.41 ± 4.94</td>\n",
       "      <td>98.86 ± 0.32</td>\n",
       "      <td>98.59 ± 1.66</td>\n",
       "      <td>45.91 ± 37.75</td>\n",
       "      <td>94.01 ± 7.44</td>\n",
       "      <td>30.14 ± 35.07</td>\n",
       "    </tr>\n",
       "    <tr>\n",
       "      <th>5</th>\n",
       "      <td>AMP_prior_False</td>\n",
       "      <td>AMP</td>\n",
       "      <td>False</td>\n",
       "      <td>57.14 ± 4.80</td>\n",
       "      <td>38.23 ± 16.67</td>\n",
       "      <td>76.26 ± 43.36</td>\n",
       "      <td>7.39 ± 21.94</td>\n",
       "      <td>30.92 ± 38.38</td>\n",
       "      <td>26.03 ± 31.65</td>\n",
       "      <td>4.28 ± 1.42</td>\n",
       "      <td>5.14 ± 0.68</td>\n",
       "      <td>5.83 ± 2.17</td>\n",
       "      <td>3.27 ± 2.34</td>\n",
       "      <td>4.30 ± 1.24</td>\n",
       "      <td>2.81 ± 2.36</td>\n",
       "    </tr>\n",
       "    <tr>\n",
       "      <th>6</th>\n",
       "      <td>PPO_prior_False</td>\n",
       "      <td>PPO</td>\n",
       "      <td>False</td>\n",
       "      <td>89.90 ± 3.25</td>\n",
       "      <td>66.83 ± 19.07</td>\n",
       "      <td>60.59 ± 53.98</td>\n",
       "      <td>11.81 ± 30.56</td>\n",
       "      <td>42.36 ± 35.51</td>\n",
       "      <td>41.11 ± 23.68</td>\n",
       "      <td>32.64 ± 40.21</td>\n",
       "      <td>97.74 ± 1.40</td>\n",
       "      <td>94.69 ± 10.67</td>\n",
       "      <td>12.91 ± 22.32</td>\n",
       "      <td>30.77 ± 38.23</td>\n",
       "      <td>6.61 ± 19.08</td>\n",
       "    </tr>\n",
       "  </tbody>\n",
       "</table>\n",
       "</div>"
      ]
     },
     "execution_count": 52,
     "metadata": {},
     "output_type": "execute_result"
    }
   ],
   "execution_count": 52
  },
  {
   "metadata": {},
   "cell_type": "markdown",
   "source": "# Generate Tables",
   "id": "4ddb3d5ee6e74488"
  },
  {
   "metadata": {
    "ExecuteTime": {
     "end_time": "2025-02-24T09:34:23.783661Z",
     "start_time": "2025-02-24T09:34:23.780326Z"
    }
   },
   "cell_type": "code",
   "source": [
    "latex_output_dir = f\"{project_prefix}/latex_tables\"\n",
    "os.makedirs(latex_output_dir, exist_ok=True)"
   ],
   "id": "f3b0a14be07c0e6",
   "outputs": [],
   "execution_count": 53
  },
  {
   "metadata": {
    "ExecuteTime": {
     "end_time": "2025-02-24T09:34:23.789219Z",
     "start_time": "2025-02-24T09:34:23.785255Z"
    }
   },
   "cell_type": "code",
   "source": [
    "env_pretty_names = {\n",
    "    'reach': 'Reach',\n",
    "    'steering': 'Direction',\n",
    "    'direction_facing': 'Steering',\n",
    "    'long_jump': 'Long Jump',\n",
    "    'strike': 'Strike'\n",
    "}\n",
    "\n",
    "algo_pretty_names = {\n",
    "    'MaskedMimic_Inversion_prior_False': 'Task Tokens (ours)',\n",
    "    'MaskedMimic_Inversion_prior_True': 'Task Tokens (ours) + J.C.',\n",
    "    'MaskedMimic_Prior_Only_prior_True': 'MaskedMimic (J.C. only)',\n",
    "    'MaskedMimic_Finetune_prior_False': 'MaskedMimic Fine-Tune',\n",
    "    'MaskedMimic_Finetune_prior_True': 'MaskedMimic Fine-Tune + J.C.',\n",
    "    'PULSE_prior_False': 'PULSE',\n",
    "    'AMP_prior_False': 'AMP',\n",
    "    'PureRL_prior_False': 'PureRL',\n",
    "    'PPO_prior_False': 'PPO',\n",
    "}\n"
   ],
   "id": "b3445489b1809f72",
   "outputs": [],
   "execution_count": 54
  },
  {
   "metadata": {
    "ExecuteTime": {
     "end_time": "2025-02-24T10:06:18.708727Z",
     "start_time": "2025-02-24T10:06:18.700510Z"
    }
   },
   "cell_type": "code",
   "source": [
    "def max_values_mask(df, ignore_cols=None):\n",
    "    if ignore_cols is None:\n",
    "        ignore_cols = []\n",
    "        # create false mask like df\n",
    "    mask = pd.DataFrame(False, index=df.index, columns=df.columns)\n",
    "    for col in df.columns:\n",
    "        if col in ignore_cols:\n",
    "            continue\n",
    "        mask[col] = df[col] == df[col].max()\n",
    "    return mask"
   ],
   "id": "b4c0bcdd3316faa0",
   "outputs": [],
   "execution_count": 94
  },
  {
   "metadata": {
    "ExecuteTime": {
     "end_time": "2025-02-24T09:49:40.792892Z",
     "start_time": "2025-02-24T09:49:40.782653Z"
    }
   },
   "cell_type": "code",
   "source": [
    "def generate_latex(df, output_file_path, caption=None, label=None, bold_mask=None, **kwargs):\n",
    "    \"\"\"\n",
    "    Generate a LaTeX table from a DataFrame with optional bold values.\n",
    "\n",
    "    Parameters:\n",
    "    - df: DataFrame\n",
    "    - output_file_path: str, path to save the LaTeX file\n",
    "    - caption: str, optional caption for the table\n",
    "    - label: str, optional label for the table\n",
    "    - bold_mask: DataFrame-like, optional, same shape as df with True for values to be bold\n",
    "    - **kwargs: additional arguments passed to DataFrame.to_latex\n",
    "    \"\"\"\n",
    "    if bold_mask is not None:\n",
    "        df = df.mask(bold_mask, df.applymap(lambda x: f\"\\\\textbf{{{x}}}\"))\n",
    "\n",
    "    # Auto-generate column format: 'l' for the first column, 'c' for the rest\n",
    "    column_format = 'l' + 'c' * (len(df.columns) - 1)\n",
    "    df.to_latex(\n",
    "        output_file_path,\n",
    "        index=False,\n",
    "        float_format=\"%.2f\",\n",
    "        column_format=column_format,\n",
    "        caption=caption,\n",
    "        label=label,\n",
    "        escape=False,\n",
    "        **kwargs\n",
    "    )\n"
   ],
   "id": "3b4ead42c44f9c08",
   "outputs": [],
   "execution_count": 61
  },
  {
   "metadata": {},
   "cell_type": "markdown",
   "source": "## Table 1 - Main Results",
   "id": "a9319f86877e61fe"
  },
  {
   "metadata": {
    "ExecuteTime": {
     "end_time": "2025-02-24T09:34:23.802094Z",
     "start_time": "2025-02-24T09:34:23.796412Z"
    }
   },
   "cell_type": "code",
   "source": [
    "def generate_table(final_df: pd.DataFrame, algos: List[str], envs: List[str]):\n",
    "    # different methods - PPO, AMP, PULSE, PRIOR_ONLY, INVERSION prior FALSE\n",
    "    # 5 envs, no perturbations\n",
    "    table_df = final_df.copy()\n",
    "    table_df = table_df[table_df['algo_str'].isin(algos)]\n",
    "    non_perturb_cols = [col for col in table_df.columns if 'perturb_False' in col]\n",
    "    table_df = table_df[['algo_str'] + non_perturb_cols]\n",
    "\n",
    "    renamed_cols = [col.replace('_perturb_False', '') for col in non_perturb_cols]\n",
    "    # Rename columns\n",
    "    table_df.columns = ['Method'] + renamed_cols\n",
    "    # Rename algo names\n",
    "    table_df['Method'] = table_df['Method'].replace(algo_pretty_names)\n",
    "    table_df = table_df[['Method'] + envs]\n",
    "    table_df = table_df.rename(columns=env_pretty_names)\n",
    "    # table_df = table_df.set_index('Method')\n",
    "    table_df = table_df.fillna('-')\n",
    "    return table_df"
   ],
   "id": "de4619179a20baf8",
   "outputs": [],
   "execution_count": 56
  },
  {
   "metadata": {
    "ExecuteTime": {
     "end_time": "2025-02-24T09:34:23.806886Z",
     "start_time": "2025-02-24T09:34:23.803687Z"
    }
   },
   "cell_type": "code",
   "source": [
    " algos_1 = ['MaskedMimic_Inversion_prior_False',\n",
    "            # 'MaskedMimic_Inversion_prior_True',\n",
    "            'MaskedMimic_Prior_Only_prior_True',\n",
    "            # 'MaskedMimic_Finetune_prior_False',\n",
    "            # 'MaskedMimic_Finetune_prior_True',\n",
    "            'PULSE_prior_False',\n",
    "            'AMP_prior_False',\n",
    "            'PureRL_prior_False',\n",
    "            'PPO_prior_False', ]"
   ],
   "id": "be0bdfefbab69421",
   "outputs": [],
   "execution_count": 57
  },
  {
   "metadata": {
    "ExecuteTime": {
     "end_time": "2025-02-24T09:52:09.684683Z",
     "start_time": "2025-02-24T09:52:09.649762Z"
    }
   },
   "cell_type": "code",
   "source": [
    "table_1 = generate_table(final_df, algos_1, envs=['reach', 'steering', 'direction_facing', 'long_jump', 'strike'])\n",
    "bold_mask = table_1.applymap(lambda x: x == 'MaskedMimic_Inversion_prior_False')\n",
    "generate_latex(table_1, f\"{latex_output_dir}/table_1.tex\", caption=\"Main Results\", label=\"tab:table_1\",bold_mask=bold_mask)\n",
    "table_1"
   ],
   "id": "9e5d8f727069d3df",
   "outputs": [
    {
     "data": {
      "text/plain": [
       "                    Method         Reach     Direction       Steering  \\\n",
       "0       Task Tokens (ours)  95.37 ± 1.80  96.89 ± 4.33   83.66 ± 5.66   \n",
       "2  MaskedMimic (J.C. only)         24.77          2.19           3.83   \n",
       "5                      AMP  57.14 ± 4.80   5.14 ± 0.68    4.28 ± 1.42   \n",
       "6                      PPO  89.90 ± 3.25  97.74 ± 1.40  32.64 ± 40.21   \n",
       "\n",
       "       Long Jump         Strike  \n",
       "0   99.81 ± 0.42   70.27 ± 4.56  \n",
       "2              -              -  \n",
       "5  76.26 ± 43.36  30.92 ± 38.38  \n",
       "6  60.59 ± 53.98  42.36 ± 35.51  "
      ],
      "text/html": [
       "<div>\n",
       "<style scoped>\n",
       "    .dataframe tbody tr th:only-of-type {\n",
       "        vertical-align: middle;\n",
       "    }\n",
       "\n",
       "    .dataframe tbody tr th {\n",
       "        vertical-align: top;\n",
       "    }\n",
       "\n",
       "    .dataframe thead th {\n",
       "        text-align: right;\n",
       "    }\n",
       "</style>\n",
       "<table border=\"1\" class=\"dataframe\">\n",
       "  <thead>\n",
       "    <tr style=\"text-align: right;\">\n",
       "      <th></th>\n",
       "      <th>Method</th>\n",
       "      <th>Reach</th>\n",
       "      <th>Direction</th>\n",
       "      <th>Steering</th>\n",
       "      <th>Long Jump</th>\n",
       "      <th>Strike</th>\n",
       "    </tr>\n",
       "  </thead>\n",
       "  <tbody>\n",
       "    <tr>\n",
       "      <th>0</th>\n",
       "      <td>Task Tokens (ours)</td>\n",
       "      <td>95.37 ± 1.80</td>\n",
       "      <td>96.89 ± 4.33</td>\n",
       "      <td>83.66 ± 5.66</td>\n",
       "      <td>99.81 ± 0.42</td>\n",
       "      <td>70.27 ± 4.56</td>\n",
       "    </tr>\n",
       "    <tr>\n",
       "      <th>2</th>\n",
       "      <td>MaskedMimic (J.C. only)</td>\n",
       "      <td>24.77</td>\n",
       "      <td>2.19</td>\n",
       "      <td>3.83</td>\n",
       "      <td>-</td>\n",
       "      <td>-</td>\n",
       "    </tr>\n",
       "    <tr>\n",
       "      <th>5</th>\n",
       "      <td>AMP</td>\n",
       "      <td>57.14 ± 4.80</td>\n",
       "      <td>5.14 ± 0.68</td>\n",
       "      <td>4.28 ± 1.42</td>\n",
       "      <td>76.26 ± 43.36</td>\n",
       "      <td>30.92 ± 38.38</td>\n",
       "    </tr>\n",
       "    <tr>\n",
       "      <th>6</th>\n",
       "      <td>PPO</td>\n",
       "      <td>89.90 ± 3.25</td>\n",
       "      <td>97.74 ± 1.40</td>\n",
       "      <td>32.64 ± 40.21</td>\n",
       "      <td>60.59 ± 53.98</td>\n",
       "      <td>42.36 ± 35.51</td>\n",
       "    </tr>\n",
       "  </tbody>\n",
       "</table>\n",
       "</div>"
      ]
     },
     "execution_count": 63,
     "metadata": {},
     "output_type": "execute_result"
    }
   ],
   "execution_count": 63
  },
  {
   "metadata": {},
   "cell_type": "markdown",
   "source": [
    "\n",
    "## Table 2 - Ablations"
   ],
   "id": "a8de34d6c3852e14"
  },
  {
   "metadata": {
    "ExecuteTime": {
     "end_time": "2025-02-24T09:58:00.494862Z",
     "start_time": "2025-02-24T09:58:00.470877Z"
    }
   },
   "cell_type": "code",
   "source": [
    "env_name = 'direction_facing'\n",
    "\n",
    "algos_2 = ['MaskedMimic_Inversion_prior_False',\n",
    "           'MaskedMimic_Inversion_prior_True',\n",
    "           'MaskedMimic_Prior_Only_prior_True',\n",
    "           'MaskedMimic_Finetune_prior_False',\n",
    "           'MaskedMimic_Finetune_prior_True',\n",
    "           # 'PULSE_prior_False',\n",
    "           # 'AMP_prior_False',\n",
    "           # 'PureRL_prior_False',\n",
    "           # 'PPO_prior_False',\n",
    "           ]\n",
    "table_2 = generate_table(final_df, algos_2, envs=[env_name])\n",
    "generate_latex(table_2, f\"{latex_output_dir}/{env_name}_table_2.tex\", caption=\"Ablation Study\", label=f\"tab:{env_name}_table_2\")\n",
    "table_2"
   ],
   "id": "d3b3ab2444285f44",
   "outputs": [
    {
     "data": {
      "text/plain": [
       "                         Method      Steering\n",
       "0            Task Tokens (ours)  83.66 ± 5.66\n",
       "1     Task Tokens (ours) + J.C.  88.69 ± 4.04\n",
       "2       MaskedMimic (J.C. only)          3.83\n",
       "3         MaskedMimic Fine-Tune  87.44 ± 6.79\n",
       "4  MaskedMimic Fine-Tune + J.C.  96.41 ± 4.94"
      ],
      "text/html": [
       "<div>\n",
       "<style scoped>\n",
       "    .dataframe tbody tr th:only-of-type {\n",
       "        vertical-align: middle;\n",
       "    }\n",
       "\n",
       "    .dataframe tbody tr th {\n",
       "        vertical-align: top;\n",
       "    }\n",
       "\n",
       "    .dataframe thead th {\n",
       "        text-align: right;\n",
       "    }\n",
       "</style>\n",
       "<table border=\"1\" class=\"dataframe\">\n",
       "  <thead>\n",
       "    <tr style=\"text-align: right;\">\n",
       "      <th></th>\n",
       "      <th>Method</th>\n",
       "      <th>Steering</th>\n",
       "    </tr>\n",
       "  </thead>\n",
       "  <tbody>\n",
       "    <tr>\n",
       "      <th>0</th>\n",
       "      <td>Task Tokens (ours)</td>\n",
       "      <td>83.66 ± 5.66</td>\n",
       "    </tr>\n",
       "    <tr>\n",
       "      <th>1</th>\n",
       "      <td>Task Tokens (ours) + J.C.</td>\n",
       "      <td>88.69 ± 4.04</td>\n",
       "    </tr>\n",
       "    <tr>\n",
       "      <th>2</th>\n",
       "      <td>MaskedMimic (J.C. only)</td>\n",
       "      <td>3.83</td>\n",
       "    </tr>\n",
       "    <tr>\n",
       "      <th>3</th>\n",
       "      <td>MaskedMimic Fine-Tune</td>\n",
       "      <td>87.44 ± 6.79</td>\n",
       "    </tr>\n",
       "    <tr>\n",
       "      <th>4</th>\n",
       "      <td>MaskedMimic Fine-Tune + J.C.</td>\n",
       "      <td>96.41 ± 4.94</td>\n",
       "    </tr>\n",
       "  </tbody>\n",
       "</table>\n",
       "</div>"
      ]
     },
     "execution_count": 75,
     "metadata": {},
     "output_type": "execute_result"
    }
   ],
   "execution_count": 75
  },
  {
   "metadata": {
    "ExecuteTime": {
     "end_time": "2025-02-24T10:06:43.180345Z",
     "start_time": "2025-02-24T10:06:43.152823Z"
    }
   },
   "cell_type": "code",
   "source": [
    "env_name = 'reach'\n",
    "\n",
    "table_2_1 = generate_table(final_df, algos_2, envs=[env_name])\n",
    "generate_latex(table_2_1, f\"{latex_output_dir}/{env_name}_table_2.tex\", caption=\"Ablation Study\", label=f\"tab:{env_name}_table_2\", bold_mask=max_values_mask(table_2_1, ignore_cols=['Method']))\n",
    "table_2_1"
   ],
   "id": "f6cb38b77a8eb70c",
   "outputs": [
    {
     "data": {
      "text/plain": [
       "                         Method         Reach\n",
       "0            Task Tokens (ours)  95.37 ± 1.80\n",
       "1     Task Tokens (ours) + J.C.  94.88 ± 1.99\n",
       "2       MaskedMimic (J.C. only)         24.77\n",
       "3         MaskedMimic Fine-Tune  93.70 ± 4.59\n",
       "4  MaskedMimic Fine-Tune + J.C.  92.88 ± 3.42"
      ],
      "text/html": [
       "<div>\n",
       "<style scoped>\n",
       "    .dataframe tbody tr th:only-of-type {\n",
       "        vertical-align: middle;\n",
       "    }\n",
       "\n",
       "    .dataframe tbody tr th {\n",
       "        vertical-align: top;\n",
       "    }\n",
       "\n",
       "    .dataframe thead th {\n",
       "        text-align: right;\n",
       "    }\n",
       "</style>\n",
       "<table border=\"1\" class=\"dataframe\">\n",
       "  <thead>\n",
       "    <tr style=\"text-align: right;\">\n",
       "      <th></th>\n",
       "      <th>Method</th>\n",
       "      <th>Reach</th>\n",
       "    </tr>\n",
       "  </thead>\n",
       "  <tbody>\n",
       "    <tr>\n",
       "      <th>0</th>\n",
       "      <td>Task Tokens (ours)</td>\n",
       "      <td>95.37 ± 1.80</td>\n",
       "    </tr>\n",
       "    <tr>\n",
       "      <th>1</th>\n",
       "      <td>Task Tokens (ours) + J.C.</td>\n",
       "      <td>94.88 ± 1.99</td>\n",
       "    </tr>\n",
       "    <tr>\n",
       "      <th>2</th>\n",
       "      <td>MaskedMimic (J.C. only)</td>\n",
       "      <td>24.77</td>\n",
       "    </tr>\n",
       "    <tr>\n",
       "      <th>3</th>\n",
       "      <td>MaskedMimic Fine-Tune</td>\n",
       "      <td>93.70 ± 4.59</td>\n",
       "    </tr>\n",
       "    <tr>\n",
       "      <th>4</th>\n",
       "      <td>MaskedMimic Fine-Tune + J.C.</td>\n",
       "      <td>92.88 ± 3.42</td>\n",
       "    </tr>\n",
       "  </tbody>\n",
       "</table>\n",
       "</div>"
      ]
     },
     "execution_count": 95,
     "metadata": {},
     "output_type": "execute_result"
    }
   ],
   "execution_count": 95
  },
  {
   "metadata": {},
   "cell_type": "code",
   "outputs": [],
   "execution_count": null,
   "source": "",
   "id": "e626b2d9adca3f21"
  }
 ],
 "metadata": {
  "kernelspec": {
   "display_name": "Python 3",
   "language": "python",
   "name": "python3"
  },
  "language_info": {
   "codemirror_mode": {
    "name": "ipython",
    "version": 2
   },
   "file_extension": ".py",
   "mimetype": "text/x-python",
   "name": "python",
   "nbconvert_exporter": "python",
   "pygments_lexer": "ipython2",
   "version": "2.7.6"
  }
 },
 "nbformat": 4,
 "nbformat_minor": 5
}
