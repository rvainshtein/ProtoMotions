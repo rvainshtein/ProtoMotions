{
 "cells": [
  {
   "cell_type": "code",
   "id": "initial_id",
   "metadata": {
    "collapsed": true,
    "ExecuteTime": {
     "end_time": "2025-02-18T12:53:38.644545Z",
     "start_time": "2025-02-18T12:53:37.145492Z"
    }
   },
   "source": [
    "import pandas as pd\n",
    "import plotly.express as px\n",
    "# Install & Import Dependencies\n",
    "import wandb\n",
    "\n",
    "pd.options.plotting.backend = \"plotly\""
   ],
   "outputs": [],
   "execution_count": 1
  },
  {
   "metadata": {
    "ExecuteTime": {
     "end_time": "2025-02-18T12:53:38.652529Z",
     "start_time": "2025-02-18T12:53:38.646378Z"
    }
   },
   "cell_type": "code",
   "source": [
    "# Define WandB Parameters\n",
    "entity = \"phys_inversion\"\n",
    "projects = [\"eval_results_direction_facing_gravity\", \"eval_results_reach_gravity\"]\n",
    "filters = {\"state\": {\"$ne\": \"finished\"}}\n",
    "api = wandb.Api()"
   ],
   "id": "d6a1a8cdfa6554b5",
   "outputs": [],
   "execution_count": 2
  },
  {
   "metadata": {
    "ExecuteTime": {
     "end_time": "2025-02-18T12:53:38.658825Z",
     "start_time": "2025-02-18T12:53:38.654056Z"
    }
   },
   "cell_type": "code",
   "source": [
    "# Fetch Data from WandB\n",
    "\n",
    "def get_runs(entity, project, filters):\n",
    "    runs = api.runs(f\"{entity}/{project}\", filters=filters)\n",
    "    data = []\n",
    "    for run in runs:\n",
    "        history = run.history(keys=None, pandas=True)  # Adjust as needed\n",
    "\n",
    "        # Fetch hyperparameters\n",
    "        config = run.config\n",
    "        history = pd.concat([history, pd.json_normalize(config, sep='.')], axis=1)\n",
    "\n",
    "        history[\"run_name\"] = run.name\n",
    "        history[\"run_id\"] = run.id\n",
    "\n",
    "        data.append(history)\n",
    "    return pd.concat(data).reset_index() if data else pd.DataFrame()\n"
   ],
   "id": "11bf4ee9174f1edc",
   "outputs": [],
   "execution_count": 3
  },
  {
   "metadata": {
    "ExecuteTime": {
     "end_time": "2025-02-18T12:53:39.766235Z",
     "start_time": "2025-02-18T12:53:38.660358Z"
    }
   },
   "cell_type": "code",
   "source": [
    "gpu_ids = [2]\n",
    "cmds = []\n",
    "for project in projects:\n",
    "    df = get_runs(entity, project, filters)\n",
    "    perturbations_cols = [x for x in df.columns if 'perturbations' in x]\n",
    "    perturbations = df[perturbations_cols]\n",
    "    for _, row in df.iterrows():\n",
    "        re_run_string = (\n",
    "            f\"python phys_anim/eval_checkpoints.py\"\n",
    "            f\" +checkpoint_paths=[{row['checkpoint']}]\"\n",
    "            f\" +gpu_ids={gpu_ids}\"\n",
    "            f\" +wandb.project={project}\"\n",
    "            f\" +use_perturbations=True\"\n",
    "        )\n",
    "        for perturbation in perturbations:\n",
    "            re_run_string += f\" +{perturbation.replace('env.config.', '')}={row[perturbation]}\"\n",
    "        cmds.append(re_run_string)"
   ],
   "id": "cc890be8b3fec1d8",
   "outputs": [],
   "execution_count": 4
  },
  {
   "metadata": {
    "ExecuteTime": {
     "end_time": "2025-02-18T12:53:39.773034Z",
     "start_time": "2025-02-18T12:53:39.768422Z"
    }
   },
   "cell_type": "code",
   "source": [
    "with open(\"../re_run.sh\", \"w\") as f:\n",
    "    for cmd in cmds:\n",
    "        f.write(f\"{cmd}\\n\")"
   ],
   "id": "941d22a1202af91e",
   "outputs": [],
   "execution_count": 5
  },
  {
   "metadata": {},
   "cell_type": "code",
   "outputs": [],
   "execution_count": null,
   "source": "",
   "id": "6c9f6b4a2517edd9"
  }
 ],
 "metadata": {
  "kernelspec": {
   "display_name": "Python 3",
   "language": "python",
   "name": "python3"
  },
  "language_info": {
   "codemirror_mode": {
    "name": "ipython",
    "version": 2
   },
   "file_extension": ".py",
   "mimetype": "text/x-python",
   "name": "python",
   "nbconvert_exporter": "python",
   "pygments_lexer": "ipython2",
   "version": "2.7.6"
  }
 },
 "nbformat": 4,
 "nbformat_minor": 5
}
