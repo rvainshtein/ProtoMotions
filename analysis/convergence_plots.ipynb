{
 "cells": [
  {
   "cell_type": "code",
   "id": "initial_id",
   "metadata": {
    "collapsed": true,
    "ExecuteTime": {
     "end_time": "2025-02-25T13:58:01.712797Z",
     "start_time": "2025-02-25T13:58:00.086706Z"
    }
   },
   "source": [
    "import os\n",
    "\n",
    "import pandas as pd\n",
    "import plotly.express as px\n",
    "from analysis.analysis_utils import get_runs, fetch_projects\n",
    "\n",
    "pd.options.plotting.backend = \"plotly\"\n",
    "\n",
    "%load_ext autoreload\n",
    "%autoreload 2"
   ],
   "outputs": [],
   "execution_count": 1
  },
  {
   "metadata": {
    "ExecuteTime": {
     "end_time": "2025-02-25T13:58:01.736738Z",
     "start_time": "2025-02-25T13:58:01.715165Z"
    }
   },
   "cell_type": "code",
   "source": [
    "# Define WandB Parameters\n",
    "entity = \"phys_inversion\"\n",
    "env_name = 'direction_facing'\n",
    "project_name = f\"chens_runs_{env_name}\"\n",
    "filters = {\"state\": {\"$eq\": \"finished\"}}\n",
    "output_dir = f\"convergence/{env_name}\"\n"
   ],
   "id": "31f20cc8771c7f97",
   "outputs": [],
   "execution_count": 2
  },
  {
   "metadata": {
    "ExecuteTime": {
     "end_time": "2025-02-25T13:58:01.760271Z",
     "start_time": "2025-02-25T13:58:01.738395Z"
    }
   },
   "cell_type": "code",
   "source": [
    "pm_rename_metrics = {\n",
    "    \"info/episode_reward\": \"Episode Reward\",\n",
    "}\n",
    "pulse_rename_metrics = {\n",
    "    \"mean_rewards\": \"Episode Reward\",\n",
    "}\n",
    "\n",
    "order = ['MaskedMimic_Inversion_prior_False',\n",
    "         'MaskedMimic_Inversion_prior_True',\n",
    "         'MaskedMimic_Prior_Only_prior_True',\n",
    "         'MaskedMimic_Finetune_prior_False',\n",
    "         'MaskedMimic_Finetune_prior_True',\n",
    "         'PULSE_prior_False',\n",
    "         'AMP_prior_False',\n",
    "         'PureRL_prior_False',\n",
    "         'PPO_prior_False', ]\n",
    "\n",
    "env_pretty_names = {\n",
    "    'reach': 'Reach',\n",
    "    'steering': 'Direction',\n",
    "    'direction_facing': 'Steering',\n",
    "    'long_jump': 'Long Jump',\n",
    "    'strike': 'Strike'\n",
    "}\n",
    "\n",
    "algo_pretty_names = {\n",
    "    'MaskedMimic_Inversion_prior_False': 'Task Tokens (ours)',\n",
    "    'MaskedMimic_Inversion_prior_True': 'Task Tokens (ours) + J.C.',\n",
    "    'MaskedMimic_Prior_Only_prior_True': 'MaskedMimic (J.C. only)',\n",
    "    'MaskedMimic_Finetune_prior_False': 'MaskedMimic Fine-Tune',\n",
    "    'MaskedMimic_Finetune_prior_True': 'MaskedMimic Fine-Tune + J.C.',\n",
    "    'PULSE_prior_False': 'PULSE',\n",
    "    'AMP_prior_False': 'AMP',\n",
    "    'PureRL_prior_False': 'PureRL',\n",
    "    'PPO_prior_False': 'PPO',\n",
    "}\n",
    "\n",
    "# Consistent color palette for algorithms\n",
    "pretty_names_order = [algo_pretty_names[algo] for algo in order]\n",
    "color_discrete_map = {algo_pretty_names[algo]: px.colors.qualitative.Set2[i % len(px.colors.qualitative.Set2)] for\n",
    "                      i, algo in\n",
    "                      enumerate(order)}\n"
   ],
   "id": "b82b5cc697bfa2b4",
   "outputs": [],
   "execution_count": 3
  },
  {
   "metadata": {
    "ExecuteTime": {
     "end_time": "2025-02-25T13:58:01.782820Z",
     "start_time": "2025-02-25T13:58:01.762740Z"
    }
   },
   "cell_type": "code",
   "source": [
    "def try_fill_columns(df, verbose=False):\n",
    "    for col in tqdm(df.columns, desc=\"Filling columns\", position=0, leave=False):\n",
    "        # Check if all values are NaN except the first one\n",
    "        if df[col].notna().sum() == 1:\n",
    "            # Fill the entire column with the first value\n",
    "            try:\n",
    "                df[col].fillna(df[col].iloc[0], inplace=True)\n",
    "            except Exception as e:\n",
    "                if verbose:\n",
    "                    print(f\"Error filling column {col}: {e}\")\n",
    "    return df"
   ],
   "id": "3c218b3be3a1592b",
   "outputs": [],
   "execution_count": 4
  },
  {
   "metadata": {
    "ExecuteTime": {
     "end_time": "2025-02-25T13:58:01.810602Z",
     "start_time": "2025-02-25T13:58:01.784521Z"
    }
   },
   "cell_type": "code",
   "source": [
    "from tqdm.notebook import tqdm\n",
    "import wandb\n",
    "\n",
    "\n",
    "def get_runs(entity, project, filters=None, keys=None, samples=40e3):\n",
    "    if filters is None:\n",
    "        filters = {\"state\": {\"$eq\": \"finished\"}}\n",
    "    api = wandb.Api()\n",
    "    runs = api.runs(f\"{entity}/{project}\", filters=filters)\n",
    "    data = []\n",
    "    for run in tqdm(runs, desc=f\"Fetching runs from {project}\", position=1):\n",
    "        history = run.history(keys=keys, pandas=True, samples=samples)  # Adjust as needed\n",
    "\n",
    "        # Fetch hyperparameters\n",
    "        config = run.config\n",
    "        history = pd.concat([history, pd.json_normalize(config, sep='.')], axis=1)\n",
    "\n",
    "        history[\"run_name\"] = run.name\n",
    "        history[\"run_id\"] = run.id\n",
    "\n",
    "        data.append(history)\n",
    "    return pd.concat(data).reset_index() if data else pd.DataFrame()\n"
   ],
   "id": "8c57e695c2c37133",
   "outputs": [],
   "execution_count": 5
  },
  {
   "metadata": {
    "ExecuteTime": {
     "end_time": "2025-02-25T13:58:01.838022Z",
     "start_time": "2025-02-25T13:58:01.812130Z"
    }
   },
   "cell_type": "code",
   "source": [
    "import plotly.graph_objects as go\n",
    "import plotly.express as px\n",
    "\n",
    "\n",
    "def create_beam_plot(df, x_col, y_col, std_col, title, x_label, y_label, order, algo_pretty_names, color_discrete_map,\n",
    "                     fig=None):\n",
    "    if fig is None:\n",
    "        show = True\n",
    "        fig = go.Figure()\n",
    "    else:\n",
    "        show = False\n",
    "\n",
    "    traces = []\n",
    "\n",
    "    for i, algo in enumerate(order):\n",
    "        algo_df = df[df['algo_str'] == algo]\n",
    "        if algo_df.empty:\n",
    "            continue\n",
    "        pretty_name = algo_pretty_names.get(algo, algo)\n",
    "\n",
    "        # Add the upper bound of the std\n",
    "        fig.add_trace(go.Scatter(\n",
    "            x=algo_df[x_col],\n",
    "            y=algo_df[y_col] + algo_df[std_col],\n",
    "            fill=None,\n",
    "            mode='lines',\n",
    "            line=dict(width=0),\n",
    "            showlegend=False,\n",
    "        ))\n",
    "        \n",
    "        # Add the lower bound of the std\n",
    "        color = color_discrete_map.get(pretty_name, 'black')\n",
    "        color_alpha = color.replace(')', ', 0.2)').replace('rgb', 'rgba')\n",
    "        fig.add_trace(go.Scatter(\n",
    "            x=algo_df[x_col],\n",
    "            y=algo_df[y_col] - algo_df[std_col],\n",
    "            fillcolor=color_alpha,\n",
    "            fill='tonexty',\n",
    "            mode='lines',\n",
    "            line=dict(width=0),\n",
    "            showlegend=False\n",
    "        ))\n",
    "        \n",
    "        # Add the mean line\n",
    "        trace = go.Scatter(\n",
    "            x=algo_df[x_col],\n",
    "            y=algo_df[y_col],\n",
    "            mode='lines',\n",
    "            name=pretty_name,\n",
    "            line=dict(width=2, color=color)\n",
    "        )\n",
    "        traces.append(trace)\n",
    "        fig.add_trace(trace)\n",
    "\n",
    "    # Reorder legend based on the order list\n",
    "    fig.update_layout(\n",
    "        title=title,\n",
    "        xaxis_title=x_label,\n",
    "        yaxis_title=y_label,\n",
    "        autosize=False,\n",
    "        width=1200,\n",
    "        height=800,\n",
    "        plot_bgcolor='white',\n",
    "        paper_bgcolor='white',\n",
    "        font=dict(color='black'),\n",
    "        legend=dict(\n",
    "            orientation='h',\n",
    "            yanchor='bottom',\n",
    "            y=-0.2,\n",
    "            xanchor='center',\n",
    "            x=0.5,\n",
    "            itemsizing='constant',\n",
    "        )\n",
    "    )\n",
    "    if show:\n",
    "        fig.show()\n"
   ],
   "id": "4b56eb7548fd55a0",
   "outputs": [],
   "execution_count": 6
  },
  {
   "metadata": {
    "ExecuteTime": {
     "end_time": "2025-02-25T13:58:11.753482Z",
     "start_time": "2025-02-25T13:58:01.839650Z"
    }
   },
   "cell_type": "code",
   "source": [
    "GENERATE_RAW_DATA = False\n",
    "if GENERATE_RAW_DATA:\n",
    "    project = fetch_projects(entity, project_prefix=project_name)[0]\n",
    "    os.makedirs(f\"{output_dir}/raw\", exist_ok=True)\n",
    "    df = get_runs(entity, project.name, filters, keys=['info/episode_reward'], samples=4000)\n",
    "    # split into runs and save\n",
    "    df_dict = {}\n",
    "    for run_name, run_df in df.groupby('run_name'):\n",
    "        run_df.to_csv(f\"{output_dir}/raw/{run_name}.csv\", index=False)\n",
    "        df_dict[run_name] = run_df\n",
    "else:\n",
    "    # load dfs into dictionary\n",
    "    df_dict = {}\n",
    "    for filename in os.listdir(f\"{output_dir}/raw\"):\n",
    "        run_name = os.path.basename(filename)\n",
    "        df_dict[run_name] = pd.read_csv(f\"{output_dir}/raw/{filename}\", low_memory=False)"
   ],
   "id": "d8a7fc8c964ea31e",
   "outputs": [],
   "execution_count": 7
  },
  {
   "metadata": {
    "ExecuteTime": {
     "end_time": "2025-02-25T13:58:39.402166Z",
     "start_time": "2025-02-25T13:58:11.755290Z"
    }
   },
   "cell_type": "code",
   "source": [
    "df_dict = {run_name: try_fill_columns(run_df) for run_name, run_df in df_dict.items()}\n",
    "pm_df = pd.concat(df_dict).reset_index()\n",
    "pm_df.loc[pm_df['algo_type'] == 'AMP', 'info/episode_reward'] = pm_df[pm_df['algo_type'] == 'AMP'][\n",
    "                                                                    'info/episode_reward'] * 2\n",
    "pm_df['algo_str'] = pm_df['algo_type'] + '_prior_' + pm_df['prior'].fillna(False).map(str)\n",
    "pm_df['algo_str'] = pm_df['algo_type'] + '_prior_' + pm_df['prior'].fillna(False).map(str)\n"
   ],
   "id": "147393cd136dd853",
   "outputs": [
    {
     "data": {
      "text/plain": [
       "Filling columns:   0%|          | 0/1275 [00:00<?, ?it/s]"
      ],
      "application/vnd.jupyter.widget-view+json": {
       "version_major": 2,
       "version_minor": 0,
       "model_id": "840475f48705414191ec9393748d75fb"
      }
     },
     "metadata": {},
     "output_type": "display_data"
    },
    {
     "data": {
      "text/plain": [
       "Filling columns:   0%|          | 0/1275 [00:00<?, ?it/s]"
      ],
      "application/vnd.jupyter.widget-view+json": {
       "version_major": 2,
       "version_minor": 0,
       "model_id": "8311d513447741a39fa9908e61127bb9"
      }
     },
     "metadata": {},
     "output_type": "display_data"
    },
    {
     "data": {
      "text/plain": [
       "Filling columns:   0%|          | 0/1275 [00:00<?, ?it/s]"
      ],
      "application/vnd.jupyter.widget-view+json": {
       "version_major": 2,
       "version_minor": 0,
       "model_id": "d72e062361eb4fc8bfc2ffe9293d84c2"
      }
     },
     "metadata": {},
     "output_type": "display_data"
    },
    {
     "data": {
      "text/plain": [
       "Filling columns:   0%|          | 0/1275 [00:00<?, ?it/s]"
      ],
      "application/vnd.jupyter.widget-view+json": {
       "version_major": 2,
       "version_minor": 0,
       "model_id": "cdf75961086d481c85ff35df4dafb3a0"
      }
     },
     "metadata": {},
     "output_type": "display_data"
    },
    {
     "data": {
      "text/plain": [
       "Filling columns:   0%|          | 0/1275 [00:00<?, ?it/s]"
      ],
      "application/vnd.jupyter.widget-view+json": {
       "version_major": 2,
       "version_minor": 0,
       "model_id": "6017d1c97d9e4ce287512f8fe091a2ad"
      }
     },
     "metadata": {},
     "output_type": "display_data"
    },
    {
     "data": {
      "text/plain": [
       "Filling columns:   0%|          | 0/1275 [00:00<?, ?it/s]"
      ],
      "application/vnd.jupyter.widget-view+json": {
       "version_major": 2,
       "version_minor": 0,
       "model_id": "4858d6a6b23a4efe9a28940efaf65176"
      }
     },
     "metadata": {},
     "output_type": "display_data"
    },
    {
     "data": {
      "text/plain": [
       "Filling columns:   0%|          | 0/1275 [00:00<?, ?it/s]"
      ],
      "application/vnd.jupyter.widget-view+json": {
       "version_major": 2,
       "version_minor": 0,
       "model_id": "25c0f4a360d64fedb4c5ab8d3ae4ad75"
      }
     },
     "metadata": {},
     "output_type": "display_data"
    },
    {
     "data": {
      "text/plain": [
       "Filling columns:   0%|          | 0/1275 [00:00<?, ?it/s]"
      ],
      "application/vnd.jupyter.widget-view+json": {
       "version_major": 2,
       "version_minor": 0,
       "model_id": "7688f17689584af989e586a3485f22d5"
      }
     },
     "metadata": {},
     "output_type": "display_data"
    },
    {
     "data": {
      "text/plain": [
       "Filling columns:   0%|          | 0/1275 [00:00<?, ?it/s]"
      ],
      "application/vnd.jupyter.widget-view+json": {
       "version_major": 2,
       "version_minor": 0,
       "model_id": "e76336e2ec244c159c77ef64e5b1f956"
      }
     },
     "metadata": {},
     "output_type": "display_data"
    },
    {
     "data": {
      "text/plain": [
       "Filling columns:   0%|          | 0/1275 [00:00<?, ?it/s]"
      ],
      "application/vnd.jupyter.widget-view+json": {
       "version_major": 2,
       "version_minor": 0,
       "model_id": "665c8a3a71bb4f95b5851fb471d4d76d"
      }
     },
     "metadata": {},
     "output_type": "display_data"
    },
    {
     "data": {
      "text/plain": [
       "Filling columns:   0%|          | 0/1275 [00:00<?, ?it/s]"
      ],
      "application/vnd.jupyter.widget-view+json": {
       "version_major": 2,
       "version_minor": 0,
       "model_id": "47bfed0c87994981920ce38e7eae8765"
      }
     },
     "metadata": {},
     "output_type": "display_data"
    },
    {
     "data": {
      "text/plain": [
       "Filling columns:   0%|          | 0/1275 [00:00<?, ?it/s]"
      ],
      "application/vnd.jupyter.widget-view+json": {
       "version_major": 2,
       "version_minor": 0,
       "model_id": "bc3227b80c67403dbb2ba13927d75c70"
      }
     },
     "metadata": {},
     "output_type": "display_data"
    },
    {
     "data": {
      "text/plain": [
       "Filling columns:   0%|          | 0/1275 [00:00<?, ?it/s]"
      ],
      "application/vnd.jupyter.widget-view+json": {
       "version_major": 2,
       "version_minor": 0,
       "model_id": "41c3b875ba294acab4a20dd61742d40d"
      }
     },
     "metadata": {},
     "output_type": "display_data"
    },
    {
     "data": {
      "text/plain": [
       "Filling columns:   0%|          | 0/1275 [00:00<?, ?it/s]"
      ],
      "application/vnd.jupyter.widget-view+json": {
       "version_major": 2,
       "version_minor": 0,
       "model_id": "75fa08fb72914a7ebcb5b99a0e537a44"
      }
     },
     "metadata": {},
     "output_type": "display_data"
    },
    {
     "data": {
      "text/plain": [
       "Filling columns:   0%|          | 0/1275 [00:00<?, ?it/s]"
      ],
      "application/vnd.jupyter.widget-view+json": {
       "version_major": 2,
       "version_minor": 0,
       "model_id": "f344b5f99cb4439f8f44ae17ec980b9f"
      }
     },
     "metadata": {},
     "output_type": "display_data"
    },
    {
     "data": {
      "text/plain": [
       "Filling columns:   0%|          | 0/1275 [00:00<?, ?it/s]"
      ],
      "application/vnd.jupyter.widget-view+json": {
       "version_major": 2,
       "version_minor": 0,
       "model_id": "087475b8cede40d3a7547923930fdf60"
      }
     },
     "metadata": {},
     "output_type": "display_data"
    },
    {
     "data": {
      "text/plain": [
       "Filling columns:   0%|          | 0/1275 [00:00<?, ?it/s]"
      ],
      "application/vnd.jupyter.widget-view+json": {
       "version_major": 2,
       "version_minor": 0,
       "model_id": "16d27481c9dc4e3fba19b75d09ba8708"
      }
     },
     "metadata": {},
     "output_type": "display_data"
    },
    {
     "data": {
      "text/plain": [
       "Filling columns:   0%|          | 0/1275 [00:00<?, ?it/s]"
      ],
      "application/vnd.jupyter.widget-view+json": {
       "version_major": 2,
       "version_minor": 0,
       "model_id": "8f8c5e65b87547ab80a22a6ddad978c7"
      }
     },
     "metadata": {},
     "output_type": "display_data"
    },
    {
     "data": {
      "text/plain": [
       "Filling columns:   0%|          | 0/1275 [00:00<?, ?it/s]"
      ],
      "application/vnd.jupyter.widget-view+json": {
       "version_major": 2,
       "version_minor": 0,
       "model_id": "f343de9af8614ce8aace02b28c965524"
      }
     },
     "metadata": {},
     "output_type": "display_data"
    },
    {
     "data": {
      "text/plain": [
       "Filling columns:   0%|          | 0/1275 [00:00<?, ?it/s]"
      ],
      "application/vnd.jupyter.widget-view+json": {
       "version_major": 2,
       "version_minor": 0,
       "model_id": "7c45ff83f8414c43a3681cf028b51c83"
      }
     },
     "metadata": {},
     "output_type": "display_data"
    },
    {
     "data": {
      "text/plain": [
       "Filling columns:   0%|          | 0/1275 [00:00<?, ?it/s]"
      ],
      "application/vnd.jupyter.widget-view+json": {
       "version_major": 2,
       "version_minor": 0,
       "model_id": "10058264aac54961867017ceaf6da490"
      }
     },
     "metadata": {},
     "output_type": "display_data"
    },
    {
     "data": {
      "text/plain": [
       "Filling columns:   0%|          | 0/1275 [00:00<?, ?it/s]"
      ],
      "application/vnd.jupyter.widget-view+json": {
       "version_major": 2,
       "version_minor": 0,
       "model_id": "8b74c54b08c046609668ac4d2fb760dc"
      }
     },
     "metadata": {},
     "output_type": "display_data"
    },
    {
     "data": {
      "text/plain": [
       "Filling columns:   0%|          | 0/1275 [00:00<?, ?it/s]"
      ],
      "application/vnd.jupyter.widget-view+json": {
       "version_major": 2,
       "version_minor": 0,
       "model_id": "fc5fcf3607474a3db1b0b8b4a8b5fa0e"
      }
     },
     "metadata": {},
     "output_type": "display_data"
    },
    {
     "data": {
      "text/plain": [
       "Filling columns:   0%|          | 0/1275 [00:00<?, ?it/s]"
      ],
      "application/vnd.jupyter.widget-view+json": {
       "version_major": 2,
       "version_minor": 0,
       "model_id": "9dd30715a1ee467384baafd9a365a9b6"
      }
     },
     "metadata": {},
     "output_type": "display_data"
    },
    {
     "data": {
      "text/plain": [
       "Filling columns:   0%|          | 0/1275 [00:00<?, ?it/s]"
      ],
      "application/vnd.jupyter.widget-view+json": {
       "version_major": 2,
       "version_minor": 0,
       "model_id": "4c364d36702d4cabb2fba6209d22cb3a"
      }
     },
     "metadata": {},
     "output_type": "display_data"
    },
    {
     "data": {
      "text/plain": [
       "Filling columns:   0%|          | 0/1275 [00:00<?, ?it/s]"
      ],
      "application/vnd.jupyter.widget-view+json": {
       "version_major": 2,
       "version_minor": 0,
       "model_id": "5c6a49ff1eeb4a618936cd411ad72991"
      }
     },
     "metadata": {},
     "output_type": "display_data"
    },
    {
     "data": {
      "text/plain": [
       "Filling columns:   0%|          | 0/1275 [00:00<?, ?it/s]"
      ],
      "application/vnd.jupyter.widget-view+json": {
       "version_major": 2,
       "version_minor": 0,
       "model_id": "c04d1275ffc941d0bed57b3a60c52516"
      }
     },
     "metadata": {},
     "output_type": "display_data"
    },
    {
     "data": {
      "text/plain": [
       "Filling columns:   0%|          | 0/1275 [00:00<?, ?it/s]"
      ],
      "application/vnd.jupyter.widget-view+json": {
       "version_major": 2,
       "version_minor": 0,
       "model_id": "71edf1c5d5fc4bb3a2ce54993b7424bb"
      }
     },
     "metadata": {},
     "output_type": "display_data"
    },
    {
     "data": {
      "text/plain": [
       "Filling columns:   0%|          | 0/1275 [00:00<?, ?it/s]"
      ],
      "application/vnd.jupyter.widget-view+json": {
       "version_major": 2,
       "version_minor": 0,
       "model_id": "d8d4bc4ee9314deb871ee2b74d6c2196"
      }
     },
     "metadata": {},
     "output_type": "display_data"
    },
    {
     "data": {
      "text/plain": [
       "Filling columns:   0%|          | 0/1275 [00:00<?, ?it/s]"
      ],
      "application/vnd.jupyter.widget-view+json": {
       "version_major": 2,
       "version_minor": 0,
       "model_id": "7f33765c32534d9fb53de2fc9de71651"
      }
     },
     "metadata": {},
     "output_type": "display_data"
    }
   ],
   "execution_count": 8
  },
  {
   "metadata": {
    "ExecuteTime": {
     "end_time": "2025-02-25T13:58:48.837177Z",
     "start_time": "2025-02-25T13:58:39.404069Z"
    }
   },
   "cell_type": "code",
   "source": [
    "GENERATE_RAW_DATA_PULSE = True\n",
    "if GENERATE_RAW_DATA_PULSE:\n",
    "    project = [project for project in fetch_projects(entity, project_prefix=\"pulse\") if \"debug\" not in project.name][0]\n",
    "    filters = {\"state\": {\"$eq\": \"finished\"}, \"display_name\": {\"$regex\": f\".*{env_name}.*\"}}\n",
    "    p_df = get_runs(entity=entity, project=project.name, filters=filters, keys=['mean_rewards'], samples=30e3)\n",
    "    p_df.to_csv(f\"{output_dir}/raw/pulse.csv\", index=False)\n",
    "else:\n",
    "    p_df = pd.read_csv(f\"{output_dir}/raw/pulse.csv\", low_memory=False)"
   ],
   "id": "15511ad0f108737b",
   "outputs": [
    {
     "data": {
      "text/plain": [
       "Fetching runs from pulse:   0%|          | 0/5 [00:00<?, ?it/s]"
      ],
      "application/vnd.jupyter.widget-view+json": {
       "version_major": 2,
       "version_minor": 0,
       "model_id": "09ed404b09dd44a59053963bb9fd4cdd"
      }
     },
     "metadata": {},
     "output_type": "display_data"
    },
    {
     "name": "stderr",
     "output_type": "stream",
     "text": [
      "\u001B[34m\u001B[1mwandb\u001B[0m: Network error (HTTPError), entering retry loop.\n"
     ]
    },
    {
     "ename": "KeyboardInterrupt",
     "evalue": "",
     "output_type": "error",
     "traceback": [
      "\u001B[0;31m---------------------------------------------------------------------------\u001B[0m",
      "\u001B[0;31mKeyboardInterrupt\u001B[0m                         Traceback (most recent call last)",
      "Cell \u001B[0;32mIn[9], line 5\u001B[0m\n\u001B[1;32m      3\u001B[0m     project \u001B[38;5;241m=\u001B[39m [project \u001B[38;5;28;01mfor\u001B[39;00m project \u001B[38;5;129;01min\u001B[39;00m fetch_projects(entity, project_prefix\u001B[38;5;241m=\u001B[39m\u001B[38;5;124m\"\u001B[39m\u001B[38;5;124mpulse\u001B[39m\u001B[38;5;124m\"\u001B[39m) \u001B[38;5;28;01mif\u001B[39;00m \u001B[38;5;124m\"\u001B[39m\u001B[38;5;124mdebug\u001B[39m\u001B[38;5;124m\"\u001B[39m \u001B[38;5;129;01mnot\u001B[39;00m \u001B[38;5;129;01min\u001B[39;00m project\u001B[38;5;241m.\u001B[39mname][\u001B[38;5;241m0\u001B[39m]\n\u001B[1;32m      4\u001B[0m     filters \u001B[38;5;241m=\u001B[39m {\u001B[38;5;124m\"\u001B[39m\u001B[38;5;124mstate\u001B[39m\u001B[38;5;124m\"\u001B[39m: {\u001B[38;5;124m\"\u001B[39m\u001B[38;5;124m$eq\u001B[39m\u001B[38;5;124m\"\u001B[39m: \u001B[38;5;124m\"\u001B[39m\u001B[38;5;124mfinished\u001B[39m\u001B[38;5;124m\"\u001B[39m}, \u001B[38;5;124m\"\u001B[39m\u001B[38;5;124mdisplay_name\u001B[39m\u001B[38;5;124m\"\u001B[39m: {\u001B[38;5;124m\"\u001B[39m\u001B[38;5;124m$regex\u001B[39m\u001B[38;5;124m\"\u001B[39m: \u001B[38;5;124mf\u001B[39m\u001B[38;5;124m\"\u001B[39m\u001B[38;5;124m.*\u001B[39m\u001B[38;5;132;01m{\u001B[39;00menv_name\u001B[38;5;132;01m}\u001B[39;00m\u001B[38;5;124m.*\u001B[39m\u001B[38;5;124m\"\u001B[39m}}\n\u001B[0;32m----> 5\u001B[0m     p_df \u001B[38;5;241m=\u001B[39m \u001B[43mget_runs\u001B[49m\u001B[43m(\u001B[49m\u001B[43mentity\u001B[49m\u001B[38;5;241;43m=\u001B[39;49m\u001B[43mentity\u001B[49m\u001B[43m,\u001B[49m\u001B[43m \u001B[49m\u001B[43mproject\u001B[49m\u001B[38;5;241;43m=\u001B[39;49m\u001B[43mproject\u001B[49m\u001B[38;5;241;43m.\u001B[39;49m\u001B[43mname\u001B[49m\u001B[43m,\u001B[49m\u001B[43m \u001B[49m\u001B[43mfilters\u001B[49m\u001B[38;5;241;43m=\u001B[39;49m\u001B[43mfilters\u001B[49m\u001B[43m,\u001B[49m\u001B[43m \u001B[49m\u001B[43mkeys\u001B[49m\u001B[38;5;241;43m=\u001B[39;49m\u001B[43m[\u001B[49m\u001B[38;5;124;43m'\u001B[39;49m\u001B[38;5;124;43mmean_rewards\u001B[39;49m\u001B[38;5;124;43m'\u001B[39;49m\u001B[43m]\u001B[49m\u001B[43m,\u001B[49m\u001B[43m \u001B[49m\u001B[43msamples\u001B[49m\u001B[38;5;241;43m=\u001B[39;49m\u001B[38;5;241;43m30e3\u001B[39;49m\u001B[43m)\u001B[49m\n\u001B[1;32m      6\u001B[0m     p_df\u001B[38;5;241m.\u001B[39mto_csv(\u001B[38;5;124mf\u001B[39m\u001B[38;5;124m\"\u001B[39m\u001B[38;5;132;01m{\u001B[39;00moutput_dir\u001B[38;5;132;01m}\u001B[39;00m\u001B[38;5;124m/raw/pulse.csv\u001B[39m\u001B[38;5;124m\"\u001B[39m, index\u001B[38;5;241m=\u001B[39m\u001B[38;5;28;01mFalse\u001B[39;00m)\n\u001B[1;32m      7\u001B[0m \u001B[38;5;28;01melse\u001B[39;00m:\n",
      "Cell \u001B[0;32mIn[5], line 12\u001B[0m, in \u001B[0;36mget_runs\u001B[0;34m(entity, project, filters, keys, samples)\u001B[0m\n\u001B[1;32m     10\u001B[0m data \u001B[38;5;241m=\u001B[39m []\n\u001B[1;32m     11\u001B[0m \u001B[38;5;28;01mfor\u001B[39;00m run \u001B[38;5;129;01min\u001B[39;00m tqdm(runs, desc\u001B[38;5;241m=\u001B[39m\u001B[38;5;124mf\u001B[39m\u001B[38;5;124m\"\u001B[39m\u001B[38;5;124mFetching runs from \u001B[39m\u001B[38;5;132;01m{\u001B[39;00mproject\u001B[38;5;132;01m}\u001B[39;00m\u001B[38;5;124m\"\u001B[39m, position\u001B[38;5;241m=\u001B[39m\u001B[38;5;241m1\u001B[39m):\n\u001B[0;32m---> 12\u001B[0m     history \u001B[38;5;241m=\u001B[39m \u001B[43mrun\u001B[49m\u001B[38;5;241;43m.\u001B[39;49m\u001B[43mhistory\u001B[49m\u001B[43m(\u001B[49m\u001B[43mkeys\u001B[49m\u001B[38;5;241;43m=\u001B[39;49m\u001B[43mkeys\u001B[49m\u001B[43m,\u001B[49m\u001B[43m \u001B[49m\u001B[43mpandas\u001B[49m\u001B[38;5;241;43m=\u001B[39;49m\u001B[38;5;28;43;01mTrue\u001B[39;49;00m\u001B[43m,\u001B[49m\u001B[43m \u001B[49m\u001B[43msamples\u001B[49m\u001B[38;5;241;43m=\u001B[39;49m\u001B[43msamples\u001B[49m\u001B[43m)\u001B[49m  \u001B[38;5;66;03m# Adjust as needed\u001B[39;00m\n\u001B[1;32m     14\u001B[0m     \u001B[38;5;66;03m# Fetch hyperparameters\u001B[39;00m\n\u001B[1;32m     15\u001B[0m     config \u001B[38;5;241m=\u001B[39m run\u001B[38;5;241m.\u001B[39mconfig\n",
      "File \u001B[0;32m~/miniconda3/envs/pm/lib/python3.8/site-packages/wandb/apis/normalize.py:25\u001B[0m, in \u001B[0;36mnormalize_exceptions.<locals>.wrapper\u001B[0;34m(*args, **kwargs)\u001B[0m\n\u001B[1;32m     23\u001B[0m message \u001B[38;5;241m=\u001B[39m \u001B[38;5;124m\"\u001B[39m\u001B[38;5;124mWhoa, you found a bug.\u001B[39m\u001B[38;5;124m\"\u001B[39m\n\u001B[1;32m     24\u001B[0m \u001B[38;5;28;01mtry\u001B[39;00m:\n\u001B[0;32m---> 25\u001B[0m     \u001B[38;5;28;01mreturn\u001B[39;00m \u001B[43mfunc\u001B[49m\u001B[43m(\u001B[49m\u001B[38;5;241;43m*\u001B[39;49m\u001B[43margs\u001B[49m\u001B[43m,\u001B[49m\u001B[43m \u001B[49m\u001B[38;5;241;43m*\u001B[39;49m\u001B[38;5;241;43m*\u001B[39;49m\u001B[43mkwargs\u001B[49m\u001B[43m)\u001B[49m\n\u001B[1;32m     27\u001B[0m \u001B[38;5;28;01mexcept\u001B[39;00m requests\u001B[38;5;241m.\u001B[39mHTTPError \u001B[38;5;28;01mas\u001B[39;00m error:\n\u001B[1;32m     28\u001B[0m     errors \u001B[38;5;241m=\u001B[39m parse_backend_error_messages(error\u001B[38;5;241m.\u001B[39mresponse)\n",
      "File \u001B[0;32m~/miniconda3/envs/pm/lib/python3.8/site-packages/wandb/apis/public/runs.py:699\u001B[0m, in \u001B[0;36mRun.history\u001B[0;34m(self, samples, keys, x_axis, pandas, stream)\u001B[0m\n\u001B[1;32m    697\u001B[0m     \u001B[38;5;28;01mreturn\u001B[39;00m []\n\u001B[1;32m    698\u001B[0m \u001B[38;5;28;01melif\u001B[39;00m keys:\n\u001B[0;32m--> 699\u001B[0m     lines \u001B[38;5;241m=\u001B[39m \u001B[38;5;28;43mself\u001B[39;49m\u001B[38;5;241;43m.\u001B[39;49m\u001B[43m_sampled_history\u001B[49m\u001B[43m(\u001B[49m\u001B[43mkeys\u001B[49m\u001B[38;5;241;43m=\u001B[39;49m\u001B[43mkeys\u001B[49m\u001B[43m,\u001B[49m\u001B[43m \u001B[49m\u001B[43mx_axis\u001B[49m\u001B[38;5;241;43m=\u001B[39;49m\u001B[43mx_axis\u001B[49m\u001B[43m,\u001B[49m\u001B[43m \u001B[49m\u001B[43msamples\u001B[49m\u001B[38;5;241;43m=\u001B[39;49m\u001B[43msamples\u001B[49m\u001B[43m)\u001B[49m\n\u001B[1;32m    700\u001B[0m \u001B[38;5;28;01melse\u001B[39;00m:\n\u001B[1;32m    701\u001B[0m     lines \u001B[38;5;241m=\u001B[39m \u001B[38;5;28mself\u001B[39m\u001B[38;5;241m.\u001B[39m_full_history(samples\u001B[38;5;241m=\u001B[39msamples, stream\u001B[38;5;241m=\u001B[39mstream)\n",
      "File \u001B[0;32m~/miniconda3/envs/pm/lib/python3.8/site-packages/wandb/apis/public/runs.py:600\u001B[0m, in \u001B[0;36mRun._sampled_history\u001B[0;34m(self, keys, x_axis, samples)\u001B[0m\n\u001B[1;32m    589\u001B[0m spec \u001B[38;5;241m=\u001B[39m {\u001B[38;5;124m\"\u001B[39m\u001B[38;5;124mkeys\u001B[39m\u001B[38;5;124m\"\u001B[39m: [x_axis] \u001B[38;5;241m+\u001B[39m keys, \u001B[38;5;124m\"\u001B[39m\u001B[38;5;124msamples\u001B[39m\u001B[38;5;124m\"\u001B[39m: samples}\n\u001B[1;32m    590\u001B[0m query \u001B[38;5;241m=\u001B[39m gql(\n\u001B[1;32m    591\u001B[0m \u001B[38;5;250m    \u001B[39m\u001B[38;5;124;03m\"\"\"\u001B[39;00m\n\u001B[1;32m    592\u001B[0m \u001B[38;5;124;03mquery RunSampledHistory($project: String!, $entity: String!, $name: String!, $specs: [JSONString!]!) {\u001B[39;00m\n\u001B[0;32m   (...)\u001B[0m\n\u001B[1;32m    597\u001B[0m \u001B[38;5;124;03m\"\"\"\u001B[39;00m\n\u001B[1;32m    598\u001B[0m )\n\u001B[0;32m--> 600\u001B[0m response \u001B[38;5;241m=\u001B[39m \u001B[38;5;28;43mself\u001B[39;49m\u001B[38;5;241;43m.\u001B[39;49m\u001B[43m_exec\u001B[49m\u001B[43m(\u001B[49m\u001B[43mquery\u001B[49m\u001B[43m,\u001B[49m\u001B[43m \u001B[49m\u001B[43mspecs\u001B[49m\u001B[38;5;241;43m=\u001B[39;49m\u001B[43m[\u001B[49m\u001B[43mjson\u001B[49m\u001B[38;5;241;43m.\u001B[39;49m\u001B[43mdumps\u001B[49m\u001B[43m(\u001B[49m\u001B[43mspec\u001B[49m\u001B[43m)\u001B[49m\u001B[43m]\u001B[49m\u001B[43m)\u001B[49m\n\u001B[1;32m    601\u001B[0m \u001B[38;5;66;03m# sampledHistory returns one list per spec, we only send one spec\u001B[39;00m\n\u001B[1;32m    602\u001B[0m \u001B[38;5;28;01mreturn\u001B[39;00m response[\u001B[38;5;124m\"\u001B[39m\u001B[38;5;124mproject\u001B[39m\u001B[38;5;124m\"\u001B[39m][\u001B[38;5;124m\"\u001B[39m\u001B[38;5;124mrun\u001B[39m\u001B[38;5;124m\"\u001B[39m][\u001B[38;5;124m\"\u001B[39m\u001B[38;5;124msampledHistory\u001B[39m\u001B[38;5;124m\"\u001B[39m][\u001B[38;5;241m0\u001B[39m]\n",
      "File \u001B[0;32m~/miniconda3/envs/pm/lib/python3.8/site-packages/wandb/apis/public/runs.py:586\u001B[0m, in \u001B[0;36mRun._exec\u001B[0;34m(self, query, **kwargs)\u001B[0m\n\u001B[1;32m    584\u001B[0m variables \u001B[38;5;241m=\u001B[39m {\u001B[38;5;124m\"\u001B[39m\u001B[38;5;124mentity\u001B[39m\u001B[38;5;124m\"\u001B[39m: \u001B[38;5;28mself\u001B[39m\u001B[38;5;241m.\u001B[39mentity, \u001B[38;5;124m\"\u001B[39m\u001B[38;5;124mproject\u001B[39m\u001B[38;5;124m\"\u001B[39m: \u001B[38;5;28mself\u001B[39m\u001B[38;5;241m.\u001B[39mproject, \u001B[38;5;124m\"\u001B[39m\u001B[38;5;124mname\u001B[39m\u001B[38;5;124m\"\u001B[39m: \u001B[38;5;28mself\u001B[39m\u001B[38;5;241m.\u001B[39mid}\n\u001B[1;32m    585\u001B[0m variables\u001B[38;5;241m.\u001B[39mupdate(kwargs)\n\u001B[0;32m--> 586\u001B[0m \u001B[38;5;28;01mreturn\u001B[39;00m \u001B[38;5;28;43mself\u001B[39;49m\u001B[38;5;241;43m.\u001B[39;49m\u001B[43mclient\u001B[49m\u001B[38;5;241;43m.\u001B[39;49m\u001B[43mexecute\u001B[49m\u001B[43m(\u001B[49m\u001B[43mquery\u001B[49m\u001B[43m,\u001B[49m\u001B[43m \u001B[49m\u001B[43mvariable_values\u001B[49m\u001B[38;5;241;43m=\u001B[39;49m\u001B[43mvariables\u001B[49m\u001B[43m)\u001B[49m\n",
      "File \u001B[0;32m~/miniconda3/envs/pm/lib/python3.8/site-packages/wandb/sdk/lib/retry.py:215\u001B[0m, in \u001B[0;36mretriable.<locals>.decorator.<locals>.wrapped_fn\u001B[0;34m(*args, **kargs)\u001B[0m\n\u001B[1;32m    213\u001B[0m \u001B[38;5;129m@functools\u001B[39m\u001B[38;5;241m.\u001B[39mwraps(fn)\n\u001B[1;32m    214\u001B[0m \u001B[38;5;28;01mdef\u001B[39;00m \u001B[38;5;21mwrapped_fn\u001B[39m(\u001B[38;5;241m*\u001B[39margs: Any, \u001B[38;5;241m*\u001B[39m\u001B[38;5;241m*\u001B[39mkargs: Any) \u001B[38;5;241m-\u001B[39m\u001B[38;5;241m>\u001B[39m Any:\n\u001B[0;32m--> 215\u001B[0m     \u001B[38;5;28;01mreturn\u001B[39;00m \u001B[43mretrier\u001B[49m\u001B[43m(\u001B[49m\u001B[38;5;241;43m*\u001B[39;49m\u001B[43margs\u001B[49m\u001B[43m,\u001B[49m\u001B[43m \u001B[49m\u001B[38;5;241;43m*\u001B[39;49m\u001B[38;5;241;43m*\u001B[39;49m\u001B[43mkargs\u001B[49m\u001B[43m)\u001B[49m\n",
      "File \u001B[0;32m~/miniconda3/envs/pm/lib/python3.8/site-packages/wandb/sdk/lib/retry.py:193\u001B[0m, in \u001B[0;36mRetry.__call__\u001B[0;34m(self, *args, **kwargs)\u001B[0m\n\u001B[1;32m    186\u001B[0m             wandb\u001B[38;5;241m.\u001B[39mtermlog(\n\u001B[1;32m    187\u001B[0m                 \u001B[38;5;124m\"\u001B[39m\u001B[38;5;132;01m{}\u001B[39;00m\u001B[38;5;124m (\u001B[39m\u001B[38;5;132;01m{}\u001B[39;00m\u001B[38;5;124m), entering retry loop.\u001B[39m\u001B[38;5;124m\"\u001B[39m\u001B[38;5;241m.\u001B[39mformat(\n\u001B[1;32m    188\u001B[0m                     \u001B[38;5;28mself\u001B[39m\u001B[38;5;241m.\u001B[39m_error_prefix, e\u001B[38;5;241m.\u001B[39m\u001B[38;5;18m__class__\u001B[39m\u001B[38;5;241m.\u001B[39m\u001B[38;5;18m__name__\u001B[39m\n\u001B[1;32m    189\u001B[0m                 )\n\u001B[1;32m    190\u001B[0m             )\n\u001B[1;32m    191\u001B[0m     \u001B[38;5;66;03m# if wandb.env.is_debug():\u001B[39;00m\n\u001B[1;32m    192\u001B[0m     \u001B[38;5;66;03m#     traceback.print_exc()\u001B[39;00m\n\u001B[0;32m--> 193\u001B[0m cancelled \u001B[38;5;241m=\u001B[39m \u001B[38;5;28;43mself\u001B[39;49m\u001B[38;5;241;43m.\u001B[39;49m\u001B[43m_sleep_check_cancelled\u001B[49m\u001B[43m(\u001B[49m\n\u001B[1;32m    194\u001B[0m \u001B[43m    \u001B[49m\u001B[43msleep\u001B[49m\u001B[43m \u001B[49m\u001B[38;5;241;43m+\u001B[39;49m\u001B[43m \u001B[49m\u001B[43mrandom\u001B[49m\u001B[38;5;241;43m.\u001B[39;49m\u001B[43mrandom\u001B[49m\u001B[43m(\u001B[49m\u001B[43m)\u001B[49m\u001B[43m \u001B[49m\u001B[38;5;241;43m*\u001B[39;49m\u001B[43m \u001B[49m\u001B[38;5;241;43m0.25\u001B[39;49m\u001B[43m \u001B[49m\u001B[38;5;241;43m*\u001B[39;49m\u001B[43m \u001B[49m\u001B[43msleep\u001B[49m\u001B[43m,\u001B[49m\u001B[43m \u001B[49m\u001B[43mcancel_event\u001B[49m\u001B[38;5;241;43m=\u001B[39;49m\u001B[43mretry_cancel_event\u001B[49m\n\u001B[1;32m    195\u001B[0m \u001B[43m\u001B[49m\u001B[43m)\u001B[49m\n\u001B[1;32m    196\u001B[0m \u001B[38;5;28;01mif\u001B[39;00m cancelled:\n\u001B[1;32m    197\u001B[0m     \u001B[38;5;28;01mraise\u001B[39;00m RetryCancelledError(\u001B[38;5;124m\"\u001B[39m\u001B[38;5;124mretry timeout\u001B[39m\u001B[38;5;124m\"\u001B[39m)\n",
      "File \u001B[0;32m~/miniconda3/envs/pm/lib/python3.8/site-packages/wandb/sdk/lib/retry.py:87\u001B[0m, in \u001B[0;36mRetry._sleep_check_cancelled\u001B[0;34m(self, wait_seconds, cancel_event)\u001B[0m\n\u001B[1;32m     83\u001B[0m \u001B[38;5;28;01mdef\u001B[39;00m \u001B[38;5;21m_sleep_check_cancelled\u001B[39m(\n\u001B[1;32m     84\u001B[0m     \u001B[38;5;28mself\u001B[39m, wait_seconds: \u001B[38;5;28mfloat\u001B[39m, cancel_event: Optional[threading\u001B[38;5;241m.\u001B[39mEvent]\n\u001B[1;32m     85\u001B[0m ) \u001B[38;5;241m-\u001B[39m\u001B[38;5;241m>\u001B[39m \u001B[38;5;28mbool\u001B[39m:\n\u001B[1;32m     86\u001B[0m     \u001B[38;5;28;01mif\u001B[39;00m \u001B[38;5;129;01mnot\u001B[39;00m cancel_event:\n\u001B[0;32m---> 87\u001B[0m         \u001B[43mSLEEP_FN\u001B[49m\u001B[43m(\u001B[49m\u001B[43mwait_seconds\u001B[49m\u001B[43m)\u001B[49m\n\u001B[1;32m     88\u001B[0m         \u001B[38;5;28;01mreturn\u001B[39;00m \u001B[38;5;28;01mFalse\u001B[39;00m\n\u001B[1;32m     89\u001B[0m     cancelled \u001B[38;5;241m=\u001B[39m cancel_event\u001B[38;5;241m.\u001B[39mwait(wait_seconds)\n",
      "\u001B[0;31mKeyboardInterrupt\u001B[0m: "
     ]
    }
   ],
   "execution_count": 9
  },
  {
   "metadata": {
    "ExecuteTime": {
     "end_time": "2025-02-25T13:58:48.839324Z",
     "start_time": "2025-02-25T13:58:48.839160Z"
    }
   },
   "cell_type": "code",
   "source": [
    "df_pulse_plot = p_df.copy()\n",
    "df_pulse_plot = df_pulse_plot.groupby('index')['mean_rewards'].agg(['mean', 'std']).reset_index()\n",
    "df_pulse_plot['algo_type'] = 'PULSE'\n",
    "df_pulse_plot['prior'] = False\n",
    "df_pulse_plot['algo_str'] = df_pulse_plot['algo_type'] + '_prior_' + df_pulse_plot['prior'].map(str)"
   ],
   "id": "b9f86791d0b5397d",
   "outputs": [],
   "execution_count": null
  },
  {
   "metadata": {},
   "cell_type": "code",
   "source": [
    "# contatenate pm and pulse\n",
    "pm_df_plot = pd.concat([pm_df, df_pulse_plot])"
   ],
   "id": "ae58426795e4130f",
   "outputs": [],
   "execution_count": null
  },
  {
   "metadata": {},
   "cell_type": "code",
   "source": [
    "fig = go.Figure()\n",
    "\n",
    "for algo_str in reversed(order):\n",
    "    algo_df = pm_df_plot[pm_df_plot['algo_str'] == algo_str]\n",
    "    algo_df = algo_df.groupby('index')['info/episode_reward'].agg(['mean', 'std']).reset_index()\n",
    "    algo_df['algo_str'] = algo_str\n",
    "    create_beam_plot(algo_df, x_col='index', y_col='mean', std_col='std', title='', x_label='Step',\n",
    "                     y_label='Mean Reward', fig=fig, order=order, algo_pretty_names=algo_pretty_names,\n",
    "                     color_discrete_map=color_discrete_map)\n",
    "fig.update_layout(\n",
    "    legend_traceorder='reversed',\n",
    ")\n",
    "fig.show()"
   ],
   "id": "ea1e94db7084e9cd",
   "outputs": [],
   "execution_count": null
  }
 ],
 "metadata": {
  "kernelspec": {
   "display_name": "Python 3",
   "language": "python",
   "name": "python3"
  },
  "language_info": {
   "codemirror_mode": {
    "name": "ipython",
    "version": 2
   },
   "file_extension": ".py",
   "mimetype": "text/x-python",
   "name": "python",
   "nbconvert_exporter": "python",
   "pygments_lexer": "ipython2",
   "version": "2.7.6"
  }
 },
 "nbformat": 4,
 "nbformat_minor": 5
}
